{
 "cells": [
  {
   "cell_type": "markdown",
   "id": "65e89a69",
   "metadata": {
    "id": "rOyOkJJA7Foy"
   },
   "source": [
    "# Machine Learning in Python - Project 1\n",
    "\n",
    "Due Friday, March 11th by 5 pm.\n",
    "\n",
    "*include contributors names here*"
   ]
  },
  {
   "cell_type": "markdown",
   "id": "f9877315",
   "metadata": {
    "id": "PqPpPRE37Fo0"
   },
   "source": [
    "## 0. Setup"
   ]
  },
  {
   "cell_type": "code",
   "execution_count": 329,
   "id": "21aa52e1",
   "metadata": {
    "id": "jb4qh-pi7Fo1"
   },
   "outputs": [
    {
     "name": "stdout",
     "output_type": "stream",
     "text": [
      "Requirement already satisfied: feature-engine in c:\\users\\jonathan\\anaconda3\\envs\\mlp-proj1\\lib\\site-packages (1.2.0)\n",
      "Requirement already satisfied: scipy>=1.4.1 in c:\\users\\jonathan\\anaconda3\\envs\\mlp-proj1\\lib\\site-packages (from feature-engine) (1.7.3)\n",
      "Requirement already satisfied: numpy>=1.18.2 in c:\\users\\jonathan\\anaconda3\\envs\\mlp-proj1\\lib\\site-packages (from feature-engine) (1.21.5)\n",
      "Requirement already satisfied: scikit-learn>=0.22.2 in c:\\users\\jonathan\\anaconda3\\envs\\mlp-proj1\\lib\\site-packages (from feature-engine) (1.0.2)\n",
      "Requirement already satisfied: statsmodels>=0.11.1 in c:\\users\\jonathan\\anaconda3\\envs\\mlp-proj1\\lib\\site-packages (from feature-engine) (0.13.2)\n",
      "Requirement already satisfied: pandas>=1.0.3 in c:\\users\\jonathan\\anaconda3\\envs\\mlp-proj1\\lib\\site-packages (from feature-engine) (1.4.1)\n",
      "Requirement already satisfied: pytz>=2020.1 in c:\\users\\jonathan\\anaconda3\\envs\\mlp-proj1\\lib\\site-packages (from pandas>=1.0.3->feature-engine) (2021.3)\n",
      "Requirement already satisfied: python-dateutil>=2.8.1 in c:\\users\\jonathan\\anaconda3\\envs\\mlp-proj1\\lib\\site-packages (from pandas>=1.0.3->feature-engine) (2.8.2)\n",
      "Requirement already satisfied: six>=1.5 in c:\\users\\jonathan\\anaconda3\\envs\\mlp-proj1\\lib\\site-packages (from python-dateutil>=2.8.1->pandas>=1.0.3->feature-engine) (1.16.0)\n",
      "Requirement already satisfied: threadpoolctl>=2.0.0 in c:\\users\\jonathan\\anaconda3\\envs\\mlp-proj1\\lib\\site-packages (from scikit-learn>=0.22.2->feature-engine) (3.1.0)\n",
      "Requirement already satisfied: joblib>=0.11 in c:\\users\\jonathan\\anaconda3\\envs\\mlp-proj1\\lib\\site-packages (from scikit-learn>=0.22.2->feature-engine) (1.1.0)\n",
      "Requirement already satisfied: packaging>=21.3 in c:\\users\\jonathan\\anaconda3\\envs\\mlp-proj1\\lib\\site-packages (from statsmodels>=0.11.1->feature-engine) (21.3)\n",
      "Requirement already satisfied: patsy>=0.5.2 in c:\\users\\jonathan\\anaconda3\\envs\\mlp-proj1\\lib\\site-packages (from statsmodels>=0.11.1->feature-engine) (0.5.2)\n",
      "Requirement already satisfied: pyparsing!=3.0.5,>=2.0.2 in c:\\users\\jonathan\\anaconda3\\envs\\mlp-proj1\\lib\\site-packages (from packaging>=21.3->statsmodels>=0.11.1->feature-engine) (3.0.7)\n"
     ]
    }
   ],
   "source": [
    "#%%\n",
    "\n",
    "!pip install feature-engine\n",
    "\n",
    "\n",
    "#os library version\n",
    "from pathlib import Path\n",
    "\n",
    "# Data libraries\n",
    "import pandas as pd\n",
    "import numpy as np\n",
    "import re\n",
    "import os\n",
    "import seaborn as sns\n",
    "\n",
    "# sklearn modules\n",
    "import sklearn\n",
    "from sklearn.preprocessing import MinMaxScaler\n",
    "from sklearn.preprocessing import StandardScaler\n",
    "from imblearn.pipeline import Pipeline\n",
    "from sklearn.compose import ColumnTransformer\n",
    "from sklearn.model_selection import train_test_split\n",
    "from sklearn.neighbors import KNeighborsClassifier as KNN\n",
    "from sklearn.metrics import classification_report\n",
    "from imblearn.over_sampling import SMOTE\n",
    "from imblearn.pipeline import Pipeline \n",
    "from sklearn.preprocessing import PolynomialFeatures\n",
    "# from sklearn.preprocessing import MultiLabelBinarizer\n",
    "\n",
    "##Import packages needed for KNN and SMOTE\n",
    "\n",
    "from collections import Counter\n",
    "from sklearn.neighbors import KNeighborsClassifier as KNN\n",
    "from sklearn.metrics import classification_report, r2_score\n",
    "from imblearn.over_sampling import SMOTE\n",
    "from imblearn.pipeline import Pipeline \n",
    "from sklearn.model_selection import cross_val_score\n",
    "from sklearn.model_selection import GridSearchCV, KFold\n",
    "from sklearn.metrics import mean_squared_error\n",
    "import matplotlib.pyplot as plt\n",
    "from sklearn.ensemble import RandomForestRegressor\n",
    "from sklearn.ensemble import RandomForestClassifier\n",
    "from feature_engine.selection import DropCorrelatedFeatures\n",
    "\n",
    "\n",
    "\n",
    "# extra modules\n",
    "from schrutepy import schrutepy\n",
    "\n",
    "##Global variables\n",
    "##Threshold total line percentage for being a \"main character\"\n",
    "P = 0.005\n",
    "SEED = 69"
   ]
  },
  {
   "cell_type": "markdown",
   "id": "32d75658",
   "metadata": {
    "id": "K314dGEL7Fo1"
   },
   "source": [
    "## 1. Introduction\n",
    "\n",
    "*This section should include a brief introduction to the task and the data (assume this is a report you are delivering to a client). If you use any additional data sources, you should introduce them here and discuss why they were included.*\n",
    "\n",
    "*Briefly outline the approaches being used and the conclusions that you are able to draw.*"
   ]
  },
  {
   "cell_type": "markdown",
   "id": "cde4150f",
   "metadata": {
    "id": "3P6Vdzbo7Fo2"
   },
   "source": [
    "## 2. Exploratory Data Analysis and Feature Engineering"
   ]
  },
  {
   "cell_type": "markdown",
   "id": "50e15bf5",
   "metadata": {
    "id": "Arg9_dYE7Fo2"
   },
   "source": [
    "*Include a detailed discussion of the data with a particular emphasis on the features of the data that are relevant for the subsequent modeling. Including visualizations of the data is strongly encouraged - all code and plots must also be described in the write up. Think carefully about whether each plot needs to be included in your final draft - your report should include figures but they should be as focused and impactful as possible.*\n",
    "\n",
    "*Additionally, this section should also implement and describe any preprocessing / feature engineering of the data. Specifically, this should be any code that you use to generate new columns in the data frame `d`. All of this processing is explicitly meant to occur before we split the data in to training and testing subsets. Processing that will be performed as part of an sklearn pipeline can be mentioned here but should be implemented in the following section.*\n",
    "\n",
    "*All code and figures should be accompanied by text that provides an overview / context to what is being done or presented.*"
   ]
  },
  {
   "cell_type": "markdown",
   "id": "3149f961",
   "metadata": {},
   "source": []
  },
  {
   "cell_type": "code",
   "execution_count": 330,
   "id": "b82b1161",
   "metadata": {},
   "outputs": [],
   "source": [
    "##Load Data\n",
    "d = pd.read_csv(\"../the_office.csv\")\n",
    "transcripts = schrutepy.load_schrute()\n"
   ]
  },
  {
   "cell_type": "markdown",
   "id": "21782b3a",
   "metadata": {},
   "source": []
  },
  {
   "cell_type": "code",
   "execution_count": 331,
   "id": "46ba8181",
   "metadata": {},
   "outputs": [],
   "source": [
    "##copy original data so we don't lose it\n",
    "df = d.copy()\n",
    "\n",
    "##Note that some directors are repeated with different spellings. \n",
    "##Need to fix before any future data solutions\n",
    "wrongdir_dict = {\"Greg Daneils\": \"Greg Daniels\", \"Charles McDougal\": \"Charles McDougall\",\n",
    "                 \"Claire Scanlong\":\"Claire Scanlon\"}\n",
    "df[\"director\"].replace(wrongdir_dict, inplace=True)\n"
   ]
  },
  {
   "cell_type": "markdown",
   "id": "b3e3abee",
   "metadata": {},
   "source": []
  },
  {
   "cell_type": "code",
   "execution_count": 332,
   "id": "72006721",
   "metadata": {},
   "outputs": [],
   "source": [
    "##combining transcript data with original data to get character line information/important characters\n",
    "\n",
    "##string cols\n",
    "str_cols = (transcripts.applymap(type) == str).all(0)\n",
    "\n",
    "##Lower names, character's and lines for easier processing\n",
    "transcripts = transcripts.applymap(lambda s: s.lower() if type(s) == str else s)\n",
    "\n",
    "##Remove spaces in character (some are incorrectly written like \"jim \")\n",
    "transcripts['character'] = transcripts['character'].str.replace(\" \", \"\")\n",
    "transcripts['season_ep'] = transcripts['season'].astype(str) + \"_\" + transcripts['episode'].astype(str)\n",
    "\n",
    "# ##Per Episode Character lines\n",
    "# transcripts.character.unique()\n",
    "line_sum = transcripts.groupby([\"season_ep\", \"character\"]).size().reset_index(name = \"lines\") ##per character and episode lines\n",
    "line_sum = line_sum.sort_values(ascending = False, by = \"lines\")##sort by lines\n",
    "\n",
    "##Total line percentage per character\n",
    "line_perc = line_sum.groupby(\"character\").agg({\"lines\": \"sum\"}).sort_values(ascending = False, by = \"lines\")\n",
    "line_perc['percentage'] = line_perc/(line_perc.sum())\n",
    "\n",
    "##Greater than 1% line share\n",
    "main_char = line_perc.loc[line_perc['percentage'] > P].index\n",
    "\n",
    "##Top 10 line speakers (main_char)\n",
    "# main_char = (line_perc.nlargest(10, 'percentage')).index\n",
    "\n",
    "##per episode lines for main characters\n",
    "line_main = line_sum.loc[line_sum['character'].isin(main_char)]\n",
    "\n",
    "##Join main data with lines per character data\n",
    "\n",
    "##convert line data into dataframe with each row as a season/episode and each column as the main character lines\n",
    "char_lines = line_main.pivot_table(values='lines', index='season_ep', columns='character').reset_index()\n",
    "char_lines = char_lines.fillna(0) ##fill NA values with zero because they are only not present if no lines were spoken\n",
    "\n",
    "##calculate character line percentage per episode\n",
    "perc_cols = char_lines.select_dtypes(include=np.number).columns + \"_perc\" ##create column names\n",
    "char_lines[perc_cols] = char_lines.select_dtypes(include=np.number).div(d.n_lines, axis = 0) ##per row char line percentages\n",
    "\n",
    "##Create character dummy variables for if present\n",
    "main_char_dummy = [str(x) + \"_dummy\" for x in main_char]\n",
    "char_lines[main_char_dummy] = (char_lines[main_char] > 0).astype(int)\n",
    "\n",
    "##copy original data so we don't lose it\n",
    "df = d.copy()\n",
    "\n",
    "\n",
    "##Note that some directors are repeated with different spellings. \n",
    "##Need to fix before any future data solutions\n",
    "wrongdir_dict = {\"Greg Daneils\": \"Greg Daniels\", \"Charles McDougal\": \"Charles McDougall\",\n",
    "                 \"Claire Scanlong\":\"Claire Scanlon\"}\n",
    "df[\"director\"].replace(wrongdir_dict, inplace=True)\n",
    "\n",
    "##create season_ep column for d to join by\n",
    "df['season_ep'] = df['season'].astype(str) + \"_\" + df['episode'].astype(str)\n",
    "\n",
    "##join the main data with the lines per character data\n",
    "df = pd.merge(df, char_lines, on = 'season_ep', how = 'left')\n",
    "\n",
    "\n",
    "##Want to get a list of all writers and a list of all directors \n",
    "##Create new columns where the presence of each writer is it's own variable (one-hot encoding)\n",
    "\n",
    "df = pd.get_dummies(df, columns=['writer', 'director']) ##contains multiple director combinations\n",
    "\n",
    "\n",
    "# convert string to lists\n",
    "#df[[\"year\", \"month\", \"day\"]] = pd.DataFrame(d.air_date.str.split(\"-\").tolist()).astype(int)\n",
    "# df[\"writer\"]                 = df[\"writer\"].str.split(\";\")\n",
    "# df[\"main_chars\"]             = df[\"main_chars\"].str.split(\";\")\n",
    "# df[\"director\"]               = df[\"director\"].str.split(\";\")\n",
    "\n",
    "# # Multiple OHE for columns with arrays\n",
    "# mlb = MultiLabelBinarizer()\n",
    "# writers_df = pd.DataFrame(mlb.fit_transform(df[\"director\"]), columns=mlb.classes_+ \"_dummy\")\n",
    "# directors_df = pd.DataFrame(mlb.fit_transform(df[\"writer\"]), columns=mlb.classes_+ \"_dummy\")\n",
    "# # adat = pd.DataFrame(mlb.fit_transform(df.iloc[\"main_chars\"]), columns=mlb.classes_+ \"_dummy\")\n",
    "\n"
   ]
  },
  {
   "cell_type": "markdown",
   "id": "82998f17",
   "metadata": {},
   "source": []
  },
  {
   "cell_type": "code",
   "execution_count": 333,
   "id": "e8ccdf2e",
   "metadata": {},
   "outputs": [],
   "source": [
    "##We want to drop some of the writers and directors if they don't appear often\n",
    "\n",
    "\n",
    "##################################################################################################################\n",
    "##Start of Functions##\n",
    "\n",
    "##Function to group \"low\" appearance directors/writers into one \"low-appearance\" column dummy variable\n",
    "##Removes the original columns for those low-appearane writers directors\n",
    "def categorize_low(column_type, df, threshold):\n",
    "    ##if writer/director shows up less than or equal to the threshold, re-categorize to \"Low-Appearance\"\n",
    "    items_eps = df.sum(axis = 0)\n",
    "    low_appearance = list(items_eps[items_eps <= threshold].index) \n",
    "    new_col = \"low_appearance\" + \"_\" + column_type\n",
    "\n",
    "    ##create new writer column for low-appearance\n",
    "    df_new = df.copy()\n",
    "    df_new[new_col] = df_new[low_appearance].sum(axis = 1) > 0 ##Identifies episodes where a low_appearance writer/dir is\n",
    "    df_new[new_col] = df_new[new_col].astype(int) ##convert boolean to integer\n",
    "    \n",
    "    ##drop original low_appearance columns\n",
    "    df_new.drop(columns = low_appearance, inplace = True)\n",
    "    \n",
    "    return(df_new)\n",
    "\n",
    "\n",
    "##End of Functions##\n",
    "##################################################################################################################\n",
    "\n",
    "\n",
    "##group low-appearance writers and remove columns for those low-appearance writers/directors\n",
    "writers_df = df.filter(regex = \"writer_\") ##get dummy writer data\n",
    "writers_df_cols = writers_df.columns ##get column names for dummy writer data\n",
    "writers_df = categorize_low(column_type = \"writer\", df = writers_df, threshold = 2) ##combine low-appearance into one col\n",
    "\n",
    "##group low-appearance directors and remove columns for those low-appearance writers/directors\n",
    "directors_df = df.filter(regex = \"director_\") ##get dummy director data\n",
    "directors_df_cols = directors_df.columns ##get column names for dummy directors\n",
    "directors_df = categorize_low(column_type = \"director\", df = directors_df, threshold = 2) ##combine low appearance into col\n",
    "\n",
    "\n",
    "##Add the writer and director data to overall data\n",
    "writer_director_col = list(writers_df_cols) + list(directors_df_cols)\n",
    "df = pd.concat([df.drop(columns = writer_director_col), writers_df, directors_df], axis = 1)\n"
   ]
  },
  {
   "cell_type": "markdown",
   "id": "2dec14b8",
   "metadata": {},
   "source": []
  },
  {
   "cell_type": "code",
   "execution_count": 334,
   "id": "0ac5dc26",
   "metadata": {},
   "outputs": [],
   "source": [
    "##Create multipart episode columns\n",
    "\n",
    "# Create column to indicate if said episode consist of multi parts\n",
    "p = re.compile(\"Parts 1&2\")\n",
    "df[\"multi_part\"] = [int(not int(pd.isnull(re.search(p,i)))) for i in df[\"episode_name\"]]"
   ]
  },
  {
   "cell_type": "markdown",
   "id": "66be0a76",
   "metadata": {},
   "source": []
  },
  {
   "cell_type": "code",
   "execution_count": 335,
   "id": "61d999b2",
   "metadata": {},
   "outputs": [],
   "source": [
    "##Replace any spaces in column names with \"_\"\n",
    "df.columns = df.columns.str.replace(' ', '_')\n",
    "\n",
    "# remove unused columns and observations\n",
    "col_drop = [\"season\",\"episode_name\", \"total_votes\", \"season_ep\", \"air_date\", \"episode\", \"main_chars\"]\n",
    "p        = re.compile(\"Part [12]\")\n",
    "row_drop = [pd.isnull(re.search(p,i)) for i in df[\"episode_name\"]]\n",
    "\n",
    "##Create filtered data with columns dropped\n",
    "fdat     = df.drop(col_drop,axis=1).iloc[row_drop,:]\n"
   ]
  },
  {
   "cell_type": "code",
   "execution_count": null,
   "id": "440d71b9",
   "metadata": {},
   "outputs": [],
   "source": []
  },
  {
   "cell_type": "code",
   "execution_count": 336,
   "id": "32271568",
   "metadata": {},
   "outputs": [],
   "source": [
    "##save raw and filter data\n",
    "\n",
    "##create data directory if it doesn't exist\n",
    "if not os.path.exists(\"./data\"): os.mkdir(\"./data\")\n",
    "\n",
    "# %%\n",
    "df.to_csv(\"data/full_raw_dat.csv\", index=False)\n",
    "fdat.to_csv(\"data/full_filtered_dat.csv\", index=False)\n"
   ]
  },
  {
   "cell_type": "code",
   "execution_count": 337,
   "id": "fda9b4be",
   "metadata": {},
   "outputs": [],
   "source": [
    "##Now we want to find the interactions between any data we've kept EXCEPT categorical data\n",
    "##Categorical data is mostly zeros, so any interaction will not be helpful\n",
    "df_int = fdat\n",
    "\n",
    "# interactions = PolynomialFeatures(interaction_only=True, include_bias=False)  ##load feature builder\n",
    "\n",
    "# ##create pipeline for interaction creation\n",
    "# interaction_pipe = Pipeline([\n",
    "#     (\"interactions\", interactions),\n",
    "# ])\n",
    "\n",
    "\n",
    "# ##define columns we wish to find interactions for\n",
    "# ##Since this is a small dataset, we don't want to create too many features\n",
    "# ##As such, only doing interactions between character lines, since these make sense for episode performance\n",
    "\n",
    "# interaction_cols = main_char.to_list() ##main_char defined above. Using as the cols for interactions\n",
    "# char_interactions = interaction_pipe.fit_transform(fdat[interaction_cols], fdat[\"imdb_rating\"])\n",
    "\n",
    "# #get new names of the interaction featurs\n",
    "# inter_features = interaction_pipe.named_steps['interactions'].get_feature_names_out(list(interaction_cols))\n",
    "\n",
    "# ##Dataframe with interactions \n",
    "# interaction_df = pd.DataFrame(char_interactions, columns = inter_features)\n",
    "# interaction_df.columns = interaction_df.columns.str.replace(' ', ':')\n",
    "\n",
    "# interaction_df = interaction_df.drop(columns = interaction_cols)\n",
    "# df_int = pd.concat([fdat.reset_index(drop = True), interaction_df], axis = 1)\n",
    "df_int.to_csv(\"data/Interactions.csv\", index = False)\n"
   ]
  },
  {
   "cell_type": "markdown",
   "id": "db7e1625",
   "metadata": {},
   "source": [
    "**Standardizing and Splitting Data**"
   ]
  },
  {
   "cell_type": "code",
   "execution_count": 338,
   "id": "d072230c",
   "metadata": {},
   "outputs": [],
   "source": [
    "\n",
    "\n",
    "#%%\n",
    "# read full data with interactions\n",
    "df_int = pd.read_csv(\"data/Interactions.csv\", index_col = None)\n",
    "\n",
    "# separate response and explanatory data\n",
    "X = df_int.drop(\"imdb_rating\", axis=1)\n",
    "y = df_int.imdb_rating\n",
    "\n",
    "##Creating categorical version of response data for potential classifiers instead of regressors\n",
    "cuts = [6, 7.5, 8, 8.5, 9, 10] ##does not include the lowest; so here would make 4 bins between each of the numbers\n",
    "binnames = ['5','4', '3', '2', '1'] ##name of bins with 1 being the best rating\n",
    "y_class = pd.cut(y, cuts, labels = binnames)\n",
    "\n",
    "\n",
    "# binlist = [y <= 7.5, y <= 8.5, y <= 9, y <= 10] ##cutoffs for different imdb categories\n",
    "# binnames = ['1', '2', '3', \"4\"] ##names for the categories\n",
    "# y_class = pd.Series(np.select(binlist, binnames, default='unknown')) \n",
    "\n",
    "\n",
    "# np.unique(y_class, return_counts=True)\n",
    "\n",
    "# write raw files\n",
    "\n",
    "##make new file\n",
    "Path(f\"./data/seed_{SEED}\").mkdir(parents=True, exist_ok=True)\n",
    "\n",
    "##split data into train test\n",
    "##Numerical data\n",
    "X_train, X_test, y_train, y_test = train_test_split(X, y, test_size=0.4, random_state=SEED, stratify = y_class)\n",
    "\n",
    "##binned data (X_test and X_train are the same as above since we use the same seed, so no need to respecify)\n",
    "##Unpack to _ and _ for both since we made above\n",
    "_, _, y_train_cl, y_test_cl = train_test_split(X, y_class, test_size=0.4, random_state=SEED, stratify = y_class)\n",
    "\n",
    "\n",
    "\n",
    "##Write to csvs for later\n",
    "\n",
    "##numerical data\n",
    "X_train.to_csv(f\"data/SEED_{SEED}/X_train_raw.csv\", index=False)\n",
    "X_test.to_csv(f\"data/SEED_{SEED}/X_test_raw.csv\", index=False)\n",
    "y_train.to_csv(f\"data/SEED_{SEED}/y_train.csv\", index=False)\n",
    "y_test.to_csv(f\"data/SEED_{SEED}/y_test.csv\", index=False)\n",
    "\n",
    "##binned data\n",
    "y_train_cl.to_csv(f\"data/SEED_{SEED}/y_train_cl.csv\", index=False)\n",
    "y_test_cl.to_csv(f\"data/SEED_{SEED}/y_test_cl.csv\", index=False)\n",
    "\n",
    "# create pipeline for scalers\n",
    "std_scale = Pipeline([('standard', StandardScaler())])\n",
    "minmax_scale = Pipeline([('minmax', MinMaxScaler())])\n",
    "\n",
    "# select columns that require scaling\n",
    "##select dummy variables (All dummies are numeric, but binary)\n",
    "##Therefore we select from numerics, but only if labeled with dummy writer or director\n",
    "\n",
    "scale_col = X_train.select_dtypes(include = np.number) ##subset the numeric columns\n",
    "cat_cols = scale_col.filter(regex = 'dummy|writer|director').columns ##subset the columns with dummy/writer/director\n",
    "\n",
    "scale_col = [col for col in scale_col if col not in cat_cols] ##update scale_col with numeric columns not in dummy vars\n",
    "\n",
    "# scale_col = X_train.iloc[:,0:24].select_dtypes(include=np.number).columns.tolist()\n",
    "\n",
    "\n",
    "##Define column transformers for scaling and min/max transformations\n",
    "minmax_prep = ColumnTransformer(\n",
    "        remainder='passthrough', ##keep all columns not specified in transformer\n",
    "        transformers=[\n",
    "            ('minmax', minmax_scale , scale_col), ##apply minmax_scale to scale_col\n",
    "        ])\n",
    "\n",
    "std_prep = ColumnTransformer(\n",
    "        remainder='passthrough', ##keep all columns not specified in transformer\n",
    "        transformers=[\n",
    "            ('std', std_scale , scale_col), ##apply std_scale to scale_col\n",
    "        ])\n",
    "\n",
    "\n",
    "#%%\n",
    "# fit minmax on training data\n",
    "minmax_prep.fit(X_train)\n",
    "minmax_train = pd.DataFrame(minmax_prep.transform(X_train), columns = X_train.columns)\n",
    "minmax_test = pd.DataFrame(minmax_prep.transform(X_test), columns = X_train.columns)##Transform test with fit from training\n",
    "\n",
    "##fit scaler on training data\n",
    "std_prep.fit(X_train)\n",
    "std_train = pd.DataFrame(std_prep.transform(X_train), columns = X_train.columns)\n",
    "std_test = pd.DataFrame(std_prep.transform(X_test), columns = X_train.columns) ##Transform test data with fit from training \n",
    "\n",
    "\n",
    "\n",
    "# %%"
   ]
  },
  {
   "cell_type": "code",
   "execution_count": null,
   "id": "fea83bf5",
   "metadata": {},
   "outputs": [],
   "source": [
    "##dropping correlated featuers from standard train\n",
    "##need to find the columns that are dropped and drop them from std_test also\n",
    "\n",
    "# CORTOR = 0.5 ##correlation tolerance (ie keep below this)\n",
    "# dropHighCor = DropCorrelatedFeatures(threshold= CORTOR) ##Function to drop highly correlated features\n",
    "# cleaned_std_train = dropHighCor.fit_transform(std_train) ##transform standardized data with function above\n",
    "\n",
    "# ##find columns we dropped\n",
    "# dropped = list(np.setdiff1d(list(std_train.columns), list(cleaned_std_train.columns)))\n",
    "\n",
    "# ##reset std_train as cleaned_std_train\n",
    "# std_train = cleaned_std_train\n",
    "\n",
    "# ##remove columns we dropped based on correlation in std_train from std_test\n",
    "# std_test = std_test.drop(columns = dropped)\n",
    "\n",
    "# ##write to csv\n",
    "# std_train.to_csv(f\"data/SEED_{SEED}/X_train_std.csv\", index=False)\n",
    "# std_test.to_csv(f\"data/SEED_{SEED}/X_test_std.csv\", index=False)\n",
    "# minmax_train.to_csv(f\"data/SEED_{SEED}/X_train_minmax.csv\", index=False)\n",
    "# minmax_test.to_csv(f\"data/SEED_{SEED}/X_test_minmax.csv\", index=False)"
   ]
  },
  {
   "cell_type": "markdown",
   "id": "b9ebeac9",
   "metadata": {
    "id": "Ad7J-Yw67Fo3"
   },
   "source": [
    "## 3. Model Fitting and Tuning"
   ]
  },
  {
   "cell_type": "markdown",
   "id": "a5a7b140",
   "metadata": {
    "id": "EXdvOaZs7Fo3"
   },
   "source": [
    "*In this section you should detail your choice of model and describe the process used to refine and fit that model. You are strongly encouraged to explore many different modeling methods (e.g. linear regression, regression trees, lasso, etc.) but you should not include a detailed narrative of all of these attempts. At most this section should mention the methods explored and why they were rejected - most of your effort should go into describing the model you are using and your process for tuning and validatin it.*\n",
    "\n",
    "*For example if you considered a linear regression model, a classification tree, and a lasso model and ultimately settled on the linear regression approach then you should mention that other two approaches were tried but do not include any of the code or any in depth discussion of these models beyond why they were rejected. This section should then detail is the development of the linear regression model in terms of features used, interactions considered, and any additional tuning and validation which ultimately led to your final model.* \n",
    "\n",
    "*This section should also include the full implementation of your final model, including all necessary validation. As with figures, any included code must also be addressed in the text of the document.*"
   ]
  },
  {
   "cell_type": "code",
   "execution_count": null,
   "id": "8f195187",
   "metadata": {
    "scrolled": true
   },
   "outputs": [],
   "source": [
    "##Import packages needed for KNN and SMOTE\n",
    "\n",
    "from collections import Counter\n",
    "from sklearn.neighbors import KNeighborsClassifier as KNN\n",
    "from sklearn.metrics import classification_report, r2_score\n",
    "from imblearn.over_sampling import SMOTE\n",
    "from imblearn.pipeline import Pipeline \n",
    "from sklearn.model_selection import cross_val_score\n",
    "from sklearn.model_selection import GridSearchCV, KFold\n",
    "from sklearn.metrics import mean_squared_error\n",
    "import matplotlib.pyplot as plt\n",
    "\n",
    "import seaborn as sns\n",
    "\n",
    "print(f'Original dataset shape {Counter(y_train_cl)}')\n",
    "\n",
    "# #create a knn model to use for grid search\n",
    "# knn_grid = KNeighborsClassifier()\n",
    "# #create a dictionary of nearest neighbors we might want to use\n",
    "# parameter_grid = {‘n_neighbors’: np.arange(1, 25)}\n",
    "# #use gridsearch to test all nn_grid (5-fold cross validation)\n",
    "# knn_gscv = GridSearchCV(knn_grid, parameter_grid, cv=5)\n",
    "\n",
    "\n",
    "# # fit model to data\n",
    "# knn_gscv.fit(X, y)\n",
    "\n",
    "smt_grid = SMOTE(random_state=42, sampling_strategy = \"all\")\n",
    "knn_grid = KNN()\n",
    "pipeline_grid = Pipeline([('smt', smt_grid), ('knn', knn_grid)])\n",
    "\n",
    "\n",
    "# Parameters of pipelines can be set using ‘__’ separated parameter names:\n",
    "parameter_grid = {\n",
    "    \"smt__k_neighbors\": np.arange(1,7),\n",
    "    \"knn__n_neighbors\": np.arange(1,50)\n",
    "}\n",
    "search = GridSearchCV(pipeline_grid, parameter_grid, n_jobs=2)\n",
    "search.fit(minmax_train, y_train_cl)\n",
    "print(\"Best parameter (CV score=%0.3f):\" % search.best_score_)\n",
    "print(search.best_params_)\n"
   ]
  },
  {
   "cell_type": "code",
   "execution_count": null,
   "id": "e64b4bee",
   "metadata": {},
   "outputs": [],
   "source": [
    "from imblearn.over_sampling import RandomOverSampler\n",
    "\n",
    "steps_ROS = [('over', RandomOverSampler(sampling_strategy = \"not majority\", random_state = 37)), \n",
    "         ('knn', KNN())]\n",
    "pipeline_ROS = Pipeline(steps=steps_ROS)\n",
    "\n",
    "parameter_grid2 = {\"knn__n_neighbors\": np.arange(1,50)}\n",
    "\n",
    "searchROS = GridSearchCV(pipeline_ROS, parameter_grid2)\n",
    "searchROS.fit(minmax_train, y_train_cl)\n",
    "\n",
    "print(\"Best parameter (CV score = %0.3f):\" % searchROS.best_score_)\n",
    "print(searchROS.best_params_)\n",
    "\n"
   ]
  },
  {
   "cell_type": "code",
   "execution_count": null,
   "id": "20b373a9",
   "metadata": {},
   "outputs": [],
   "source": [
    "over = RandomOverSampler(random_state = 37, sampling_strategy = \"not majority\")\n",
    "knn_over = KNN(n_neighbors = 1)\n",
    "pipeline_ROS = Pipeline([('over', over), ('knn', knn_over)])\n",
    "\n",
    "pipeline_ROS.fit(minmax_train, y_train_cl) \n",
    "y_hat = pipeline_ROS.predict(minmax_test)\n",
    "print(classification_report(y_test_cl, y_hat))\n",
    "print(knn_over.score(minmax_test, y_test_cl))"
   ]
  },
  {
   "cell_type": "code",
   "execution_count": null,
   "id": "2b833f0c",
   "metadata": {},
   "outputs": [],
   "source": [
    "##No Oversampling. Just raw data\n",
    "\n",
    "knn = KNN()\n",
    "pipeline_knn = Pipeline([('knn', knn)])\n",
    "parameter_grid3 = {\"knn__n_neighbors\": np.arange(1,50)}\n",
    "\n",
    "searchKNN = GridSearchCV(pipeline_knn, parameter_grid3)\n",
    "searchKNN.fit(minmax_train, y_train_cl)\n",
    "\n",
    "print(\"Best parameter (CV score = %0.3f):\" % searchKNN.best_score_)\n",
    "print(searchKNN.best_params_)\n"
   ]
  },
  {
   "cell_type": "code",
   "execution_count": null,
   "id": "4bf23cd8",
   "metadata": {},
   "outputs": [],
   "source": [
    "knn_fix = KNN(n_neighbors = 9)\n",
    "pipeline_knn = Pipeline([('knn', knn_fix)])\n",
    "pipeline_knn.fit(minmax_train, y_train_cl)\n",
    "y_hat = pipeline_knn.predict(minmax_test)\n",
    "print(classification_report(y_test_cl, y_hat))\n",
    "print(knn_fix.score(minmax_test, y_test_cl))"
   ]
  },
  {
   "cell_type": "code",
   "execution_count": null,
   "id": "377627d6",
   "metadata": {
    "scrolled": true
   },
   "outputs": [],
   "source": [
    "smt = SMOTE(random_state = 42, sampling_strategy = \"not majority\", k_neighbors = 1)\n",
    "knn_smote = KNN(n_neighbors = 1)\n",
    "pipeline = Pipeline([('smt', smt), ('knn', knn_smote)])\n",
    "\n",
    "pipeline.fit(minmax_train, y_train_cl) \n",
    "y_hat = pipeline.predict(minmax_test)\n",
    "print(classification_report(y_test_cl, y_hat))\n",
    "print(knn_smote.score(minmax_test, y_test_cl))\n"
   ]
  },
  {
   "cell_type": "code",
   "execution_count": null,
   "id": "fa10cebf",
   "metadata": {},
   "outputs": [],
   "source": [
    "##Trying Knn Regression\n",
    "from sklearn.neighbors import KNeighborsRegressor\n",
    "\n",
    "\n",
    "##from https://towardsdatascience.com/intro-to-scikit-learns-k-nearest-neighbors-classifier-and-regressor-4228d8d1cba6\n",
    "def plot_complexity_curve(k_list, knn_model, x_train, x_test, y_train, y_test):\n",
    "    \n",
    "    train_scores = []\n",
    "    test_scores = []\n",
    "    \n",
    "    # For each k\n",
    "    for k in k_list:\n",
    "        # Initialize, fit, predict\n",
    "        knn = knn_model(k)\n",
    "        \n",
    "        knn.fit(x_train, y_train)\n",
    "        \n",
    "        train_scores.append(knn.score(x_train, y_train))\n",
    "        test_scores.append(knn.score(x_test, y_test))\n",
    "\n",
    "    # Plot\n",
    "    fig, ax = plt.subplots()\n",
    "    \n",
    "    ax.plot(k_list, train_scores, label='Training Accuracy', color='red')\n",
    "    ax.plot(k_list, test_scores, label='Testing Accuracy', color='black')\n",
    "\n",
    "    ax.set(title='k-NN with Different Values for $k$',\n",
    "           xlabel='Number of Neighbors',\n",
    "           ylabel='Accuracy')\n",
    "    \n",
    "    ax.legend()\n",
    "    \n",
    "##List of potential neighbors\n",
    "neighbors = np.arange(1,25)\n",
    "    \n",
    "plot_complexity_curve(neighbors, KNeighborsRegressor, minmax_train, \n",
    "                      minmax_test, y_train, y_test)\n",
    "\n"
   ]
  },
  {
   "cell_type": "code",
   "execution_count": null,
   "id": "2b090091",
   "metadata": {},
   "outputs": [],
   "source": [
    "##Regressor grid search\n",
    "\n",
    "\n",
    "knn_regr = KNeighborsRegressor()\n",
    "pipeline_knn_regr = Pipeline([('knn_regr', knn_regr)])\n",
    "parameter_grid4 = {\"knn_regr__n_neighbors\": np.arange(1,20)}\n",
    "\n",
    "searchKNNregr = GridSearchCV(pipeline_knn_regr, parameter_grid4)\n",
    "searchKNNregr.fit(minmax_train, y_train)\n",
    "\n",
    "print(\"Best parameter (CV score = %0.3f):\" % searchKNNregr.best_score_)\n",
    "print(searchKNNregr.best_params_)"
   ]
  },
  {
   "cell_type": "code",
   "execution_count": null,
   "id": "c667c8b7",
   "metadata": {},
   "outputs": [],
   "source": [
    "knn_regr = KNeighborsRegressor(n_neighbors = 12)\n",
    "pipeline_regr = Pipeline([('knn_regr', knn_regr)])\n",
    "\n",
    "pipeline_regr.fit(minmax_train, y_train) \n",
    "y_hat = pipeline_regr.predict(minmax_test)\n",
    "print(\"R^2:\")\n",
    "print(r2_score(y_test, y_hat))\n",
    "print(\"MSE\")\n",
    "print(mean_squared_error(y_test, y_hat))"
   ]
  },
  {
   "cell_type": "code",
   "execution_count": 339,
   "id": "f90e04f4",
   "metadata": {
    "scrolled": true
   },
   "outputs": [
    {
     "name": "stderr",
     "output_type": "stream",
     "text": [
      "Objective did not converge. You might want to increase the number of iterations, check the scale of the features or consider increasing regularisation. Duality gap: 1.768e-02, tolerance: 2.799e-03\n",
      "Objective did not converge. You might want to increase the number of iterations, check the scale of the features or consider increasing regularisation. Duality gap: 2.220e-02, tolerance: 2.654e-03\n",
      "Objective did not converge. You might want to increase the number of iterations, check the scale of the features or consider increasing regularisation. Duality gap: 3.301e-03, tolerance: 2.934e-03\n",
      "Objective did not converge. You might want to increase the number of iterations, check the scale of the features or consider increasing regularisation. Duality gap: 2.043e-02, tolerance: 2.631e-03\n",
      "Objective did not converge. You might want to increase the number of iterations, check the scale of the features or consider increasing regularisation. Duality gap: 2.974e-02, tolerance: 2.741e-03\n"
     ]
    },
    {
     "data": {
      "text/plain": [
       "GridSearchCV(cv=KFold(n_splits=5, random_state=1234, shuffle=True),\n",
       "             estimator=Pipeline(steps=[('lasso', Lasso())]),\n",
       "             param_grid={'lasso__alpha': array([1.00000000e-03, 5.12462312e-02, 1.01492462e-01, 1.51738693e-01,\n",
       "       2.01984925e-01, 2.52231156e-01, 3.02477387e-01, 3.52723618e-01,\n",
       "       4.02969849e-01, 4.53216080e-01, 5.03462312e-01, 5.53708543e-01,\n",
       "       6.03954774e-01, 6.54201005...\n",
       "       8.84433668e+00, 8.89458291e+00, 8.94482915e+00, 8.99507538e+00,\n",
       "       9.04532161e+00, 9.09556784e+00, 9.14581407e+00, 9.19606030e+00,\n",
       "       9.24630653e+00, 9.29655276e+00, 9.34679899e+00, 9.39704523e+00,\n",
       "       9.44729146e+00, 9.49753769e+00, 9.54778392e+00, 9.59803015e+00,\n",
       "       9.64827638e+00, 9.69852261e+00, 9.74876884e+00, 9.79901508e+00,\n",
       "       9.84926131e+00, 9.89950754e+00, 9.94975377e+00, 1.00000000e+01])},\n",
       "             scoring='neg_root_mean_squared_error')"
      ]
     },
     "execution_count": 339,
     "metadata": {},
     "output_type": "execute_result"
    }
   ],
   "source": [
    "#Trying LASSO\n",
    "\n",
    "from sklearn.linear_model import Lasso\n",
    "lasso = Lasso()\n",
    "lasso_pip = Pipeline([(\"lasso\", lasso)])\n",
    "alphas = np.linspace(0.001, 10, num=200)\n",
    "param_grid_lasso={'lasso__alpha': alphas}\n",
    "\n",
    "gs = GridSearchCV(lasso_pip, param_grid_lasso, cv=KFold(5, shuffle=True, random_state=1234),\n",
    "    scoring=\"neg_root_mean_squared_error\"  ##negative because for optimization we need to find the minimum but the default optimizer is a maximizer (so we reverse this)\n",
    "                 )\n",
    "gs.fit(std_train, y_train)\n",
    "\n"
   ]
  },
  {
   "cell_type": "code",
   "execution_count": null,
   "id": "90efbe85",
   "metadata": {},
   "outputs": [],
   "source": []
  },
  {
   "cell_type": "code",
   "execution_count": 340,
   "id": "eb3a7607",
   "metadata": {
    "scrolled": true
   },
   "outputs": [
    {
     "name": "stdout",
     "output_type": "stream",
     "text": [
      "{'lasso__alpha': 0.0512462311557789}\n"
     ]
    }
   ],
   "source": [
    "print(gs.best_params_)"
   ]
  },
  {
   "cell_type": "code",
   "execution_count": 341,
   "id": "93c3a9ed",
   "metadata": {},
   "outputs": [],
   "source": [
    "def get_coefs(m):\n",
    "    \"\"\"Returns the model coefficients from a Scikit-learn model object as an array,\n",
    "    includes the intercept if available.\n",
    "    \"\"\"\n",
    "    \n",
    "    # If pipeline, use the last step as the model\n",
    "    if (isinstance(m, sklearn.pipeline.Pipeline)):\n",
    "        m = m.steps[-1][1]\n",
    "    \n",
    "    \n",
    "    if m.intercept_ is None:\n",
    "        return m.coef_\n",
    "    \n",
    "    return np.concatenate([[m.intercept_], m.coef_])\n",
    "\n",
    "def model_fit(m, X, y, plot = False):\n",
    "    \"\"\"Returns the root mean squared error of a fitted model based on provided X and y values.\n",
    "    \n",
    "    Args:\n",
    "        m: sklearn model object\n",
    "        X: model matrix to use for prediction\n",
    "        y: outcome vector to use to calculating rmse and residuals\n",
    "        plot: boolean value, should fit plots be shown \n",
    "    \"\"\"\n",
    "    \n",
    "    y_hat = m.predict(X)\n",
    "    rmse = np.sqrt(mean_squared_error(y, y_hat))\n",
    "    \n",
    "    res = pd.DataFrame(\n",
    "        data = {'y': y, 'y_hat': y_hat, 'resid': list(y) - y_hat}\n",
    "    )\n",
    "\n",
    "    \n",
    "    if plot:\n",
    "        plt.figure(figsize=(12, 6))\n",
    "        \n",
    "        plt.subplot(121)\n",
    "        sns.lineplot(x='y', y='y_hat', color=\"grey\", data =  pd.DataFrame(data={'y': [min(y),max(y)], 'y_hat': [min(y),max(y)]}))\n",
    "        sns.scatterplot(x='y', y='y_hat', data=res).set_title(\"Fit plot\")\n",
    "        \n",
    "        plt.subplot(122)\n",
    "        sns.scatterplot(x='y_hat', y='resid', data=res).set_title(\"Residual plot\")\n",
    "        plt.hlines(y=0, xmin=np.min(y), xmax=np.max(y), linestyles='dashed', alpha=0.3, colors=\"black\")\n",
    "        \n",
    "        plt.subplots_adjust(left=0.0)\n",
    "        \n",
    "        plt.suptitle(\"Model rmse = \" + str(round(rmse, 4)), fontsize=16)\n",
    "        plt.show()\n",
    "    \n",
    "    return rmse\n"
   ]
  },
  {
   "cell_type": "code",
   "execution_count": 342,
   "id": "c1950731",
   "metadata": {
    "scrolled": false
   },
   "outputs": [
    {
     "data": {
      "image/png": "[encoded data removed]",
      "text/plain": [
       "<Figure size 864x432 with 2 Axes>"
      ]
     },
     "metadata": {
      "needs_background": "light"
     },
     "output_type": "display_data"
    },
    {
     "name": "stdout",
     "output_type": "stream",
     "text": [
      "R^2 Train\n",
      "0.48932087548830316\n",
      "R^2\n",
      "0.2581204022678216\n",
      "MSE\n",
      "0.18581130494551454\n"
     ]
    }
   ],
   "source": [
    "model_fit(gs.best_estimator_, X=std_test, y=y_test, plot=True)\n",
    "print(\"R^2 Train\")\n",
    "print(r2_score(y_train, gs.best_estimator_.predict(std_train)))\n",
    "print(\"R^2\")\n",
    "print(r2_score(y_test, gs.best_estimator_.predict(std_test)))\n",
    "print(\"MSE\")\n",
    "print(mean_squared_error(y_test, gs.best_estimator_.predict(std_test)))\n",
    "\n",
    "# gs.best_estimator_.predict(s)\n",
    "\n",
    "# get_coefs(gs.best_estimator_)\n",
    "# np.unique(gs.best_estimator_.predict(std_test))\n",
    "# \n",
    "# print(gs.best_estimator_.predict(std_test))\n",
    "# print(list(y_test))\n",
    "# print(gs.best_estimator_.predict(std_test) - list(y_test))\n",
    "# print(gs.best_estimator_.predict(std_test) - (y_test))\n",
    "\n",
    "\n",
    "# # # robust_pipeline = make_Pipeline()\n",
    "# from sklearn.linear_model import LinearRegression\n",
    "# linear_model = LinearRegression().fit(std_train, y_train)\n",
    "\n",
    "# y_hat = linear_model.predict(std_test)\n",
    "# rmse = np.sqrt(mean_squared_error(list(y_test), y_hat))\n",
    "   \n",
    "# res = pd.DataFrame(y_test - y_hat)\n",
    "# res[\"y_test\"] = y_test\n",
    "# res[\"y_hat\"] = y_hat\n",
    "\n",
    "# res\n",
    "   \n",
    "# # if True:\n",
    "# plt.figure(figsize=(12, 6))\n",
    "\n",
    "# plt.subplot(121)\n",
    "# sns.lineplot(x='y_test', y='y_hat', color=\"grey\", data = res)\n",
    "# sns.scatterplot(x='y_test', y='y_hat', data=res).set_title(\"Fit plot\")\n",
    "\n",
    "# plt.subplot(122)\n",
    "# sns.scatterplot(x='y_test', y='imdb_rating', data=res).set_title(\"Residual plot\")\n",
    "# plt.hlines(y=0, xmin=np.min(y_test), xmax=np.max(y_test), linestyles='dashed', alpha=0.3, colors=\"black\")\n",
    "\n",
    "# plt.subplots_adjust(left=0.0)\n",
    "\n",
    "# plt.suptitle(\"Model rmse = \" + str(round(rmse, 4)), fontsize=16)\n",
    "# plt.show()\n",
    "\n",
    "# print(rmse)\n",
    "\n",
    "\n",
    "# # res = list(y_test) - gs.best_estimator_.predict(std_test)\n",
    "# # sns.histplot(res)\n",
    "# # # gs.best_estimator_.predict(X_test)"
   ]
  },
  {
   "cell_type": "code",
   "execution_count": 282,
   "id": "be430de9",
   "metadata": {
    "scrolled": false
   },
   "outputs": [
    {
     "name": "stdout",
     "output_type": "stream",
     "text": [
      "      value            variable       abs  rank\n",
      "1  0.081536        michael_perc  0.081536   1.0\n",
      "0  0.078534             michael  0.078534   2.0\n",
      "2  0.032721        nellie_dummy  0.032721   3.0\n",
      "6  0.028324         darryl:toby  0.028324   4.0\n",
      "3  0.010407  writer_Aaron_Shure  0.010407   5.0\n",
      "5  0.003365         michael:jan  0.003365   6.0\n",
      "4  0.000468        michael:toby  0.000468   7.0\n"
     ]
    },
    {
     "data": {
      "text/plain": [
       "['michael_perc',\n",
       " 'michael',\n",
       " 'nellie_dummy',\n",
       " 'darryl:toby',\n",
       " 'writer_Aaron_Shure',\n",
       " 'michael:jan',\n",
       " 'michael:toby']"
      ]
     },
     "execution_count": 282,
     "metadata": {},
     "output_type": "execute_result"
    }
   ],
   "source": [
    "coefs = get_coefs(gs.best_estimator_)[1:] != 0\n",
    "sig_coef = pd.DataFrame({\"value\": get_coefs(gs.best_estimator_)[1:][coefs], \"variable\": std_test.loc[:,coefs].columns})\n",
    "sig_coef[\"abs\"] = sig_coef[\"value\"].abs()\n",
    "sig_coef[\"rank\"] = sig_coef[\"abs\"].rank(ascending = False)\n",
    "sig_coef = sig_coef.sort_values(by = [\"rank\"])\n",
    "print(sig_coef)\n",
    "\n",
    "above_1perc = sig_coef.loc[sig_coef[\"abs\"] > 0.00,\"variable\"].to_list()\n",
    "above_1perc\n",
    "# sns.scatterplot(x = np.arange(1, (len(coefs) + 1)), y = sig_coef[\"value\"])"
   ]
  },
  {
   "cell_type": "code",
   "execution_count": 283,
   "id": "2a16ef53",
   "metadata": {
    "scrolled": true
   },
   "outputs": [
    {
     "ename": "NameError",
     "evalue": "name 'LinearRegression' is not defined",
     "output_type": "error",
     "traceback": [
      "\u001b[1;31m---------------------------------------------------------------------------\u001b[0m",
      "\u001b[1;31mNameError\u001b[0m                                 Traceback (most recent call last)",
      "\u001b[1;32m~\\AppData\\Local\\Temp/ipykernel_27236/345356198.py\u001b[0m in \u001b[0;36m<module>\u001b[1;34m\u001b[0m\n\u001b[0;32m      6\u001b[0m \u001b[1;33m\u001b[0m\u001b[0m\n\u001b[0;32m      7\u001b[0m \u001b[1;31m##new grid search\u001b[0m\u001b[1;33m\u001b[0m\u001b[1;33m\u001b[0m\u001b[0m\n\u001b[1;32m----> 8\u001b[1;33m \u001b[0mlr\u001b[0m \u001b[1;33m=\u001b[0m \u001b[0mLinearRegression\u001b[0m\u001b[1;33m(\u001b[0m\u001b[1;33m)\u001b[0m\u001b[1;33m\u001b[0m\u001b[1;33m\u001b[0m\u001b[0m\n\u001b[0m\u001b[0;32m      9\u001b[0m \u001b[0mlm\u001b[0m \u001b[1;33m=\u001b[0m \u001b[0mlr\u001b[0m\u001b[1;33m.\u001b[0m\u001b[0mfit\u001b[0m\u001b[1;33m(\u001b[0m\u001b[0mstd_train_drop\u001b[0m\u001b[1;33m,\u001b[0m \u001b[0my_train\u001b[0m\u001b[1;33m)\u001b[0m\u001b[1;33m\u001b[0m\u001b[1;33m\u001b[0m\u001b[0m\n\u001b[0;32m     10\u001b[0m \u001b[1;33m\u001b[0m\u001b[0m\n",
      "\u001b[1;31mNameError\u001b[0m: name 'LinearRegression' is not defined"
     ]
    }
   ],
   "source": [
    "##linear regression with feature selection\n",
    "\n",
    "sig_cols = sig_coef[\"variable\"].to_list()\n",
    "std_train_drop = std_train.filter(above_1perc)\n",
    "std_test_drop = std_test.filter(above_1perc)\n",
    "\n",
    "##new grid search\n",
    "lr = LinearRegression()\n",
    "lm = lr.fit(std_train_drop, y_train)\n",
    "\n",
    "y_hat = lm.predict(std_test_drop)\n",
    "model_fit(lm, std_test_drop, y_test, plot = True)\n",
    "r2_score(y_test, y_hat)"
   ]
  },
  {
   "cell_type": "code",
   "execution_count": 290,
   "id": "d6485a23",
   "metadata": {},
   "outputs": [
    {
     "name": "stderr",
     "output_type": "stream",
     "text": [
      "Ill-conditioned matrix (rcond=5.7478e-18): result may not be accurate.\n",
      "Ill-conditioned matrix (rcond=1.35008e-17): result may not be accurate.\n",
      "Ill-conditioned matrix (rcond=1.71617e-18): result may not be accurate.\n",
      "Singular matrix in solving dual problem. Using least-squares solution instead.\n",
      "Ill-conditioned matrix (rcond=1.02532e-17): result may not be accurate.\n"
     ]
    },
    {
     "data": {
      "text/plain": [
       "GridSearchCV(cv=KFold(n_splits=5, random_state=1234, shuffle=True),\n",
       "             estimator=Pipeline(steps=[('ridge', Ridge())]),\n",
       "             param_grid={'ridge__alpha': array([    0.        ,    50.25125628,   100.50251256,   150.75376884,\n",
       "         201.00502513,   251.25628141,   301.50753769,   351.75879397,\n",
       "         402.01005025,   452.26130653,   502.51256281,   552.7638191 ,\n",
       "         603.01507538,   653.26633166,   703.51758794,   753.76884422,\n",
       "         804.02010...\n",
       "        8844.22110553,  8894.47236181,  8944.72361809,  8994.97487437,\n",
       "        9045.22613065,  9095.47738693,  9145.72864322,  9195.9798995 ,\n",
       "        9246.23115578,  9296.48241206,  9346.73366834,  9396.98492462,\n",
       "        9447.2361809 ,  9497.48743719,  9547.73869347,  9597.98994975,\n",
       "        9648.24120603,  9698.49246231,  9748.74371859,  9798.99497487,\n",
       "        9849.24623116,  9899.49748744,  9949.74874372, 10000.        ])},\n",
       "             scoring='neg_root_mean_squared_error')"
      ]
     },
     "execution_count": 290,
     "metadata": {},
     "output_type": "execute_result"
    }
   ],
   "source": [
    "##ridge regression\n",
    "\n",
    "from sklearn.linear_model import Ridge\n",
    "ridge = Ridge()\n",
    "ridge_pip = Pipeline([(\"ridge\", ridge)])\n",
    "alphas = np.linspace(0, 10000, num=200)\n",
    "param_grid_ridge={'ridge__alpha': alphas}\n",
    "\n",
    "gsridge = GridSearchCV(ridge_pip, param_grid_ridge, cv=KFold(5, shuffle=True, random_state=1234),\n",
    "    scoring=\"neg_root_mean_squared_error\"  ##negative because for optimization we need to find the minimum but the default optimizer is a maximizer (so we reverse this)\n",
    "                 )\n",
    "gsridge.fit(std_train, y_train)\n"
   ]
  },
  {
   "cell_type": "code",
   "execution_count": 291,
   "id": "608948bf",
   "metadata": {},
   "outputs": [
    {
     "data": {
      "text/plain": [
       "{'ridge__alpha': 1457.286432160804}"
      ]
     },
     "execution_count": 291,
     "metadata": {},
     "output_type": "execute_result"
    }
   ],
   "source": [
    "gsridge.best_params_"
   ]
  },
  {
   "cell_type": "code",
   "execution_count": 292,
   "id": "8b20a976",
   "metadata": {
    "scrolled": false
   },
   "outputs": [
    {
     "data": {
      "image/png": "[encoded data removed]",
      "text/plain": [
       "<Figure size 864x432 with 2 Axes>"
      ]
     },
     "metadata": {
      "needs_background": "light"
     },
     "output_type": "display_data"
    },
    {
     "name": "stdout",
     "output_type": "stream",
     "text": [
      "R^2 Train\n",
      "0.37262879834003804\n",
      "R^2\n",
      "0.38963302486568385\n",
      "MSE\n",
      "0.19460853248822332\n"
     ]
    },
    {
     "data": {
      "text/plain": [
       "array([ 8.26425089e+00,  3.39139154e-03,  2.60553682e-03,  3.24368430e-03,\n",
       "        1.25838677e-03, -1.83110655e-03,  6.52780313e-05,  1.32058844e-03,\n",
       "       -4.17364729e-03,  2.62476524e-03, -1.78265857e-04, -4.68899699e-03,\n",
       "       -1.11832174e-03,  2.49792708e-03,  3.40448728e-03,  1.61194326e-03,\n",
       "        2.89958560e-03, -3.04725370e-04, -9.16366092e-04,  5.18741065e-04,\n",
       "        7.98360378e-03, -5.67418199e-03, -2.86334824e-03, -2.24492313e-04,\n",
       "        1.11759862e-03, -3.34106946e-03,  9.17688180e-04,  4.88796641e-04,\n",
       "        1.51007842e-03, -1.33708305e-03,  1.70425946e-03,  1.41748800e-03,\n",
       "       -4.84169012e-03,  2.56128072e-03,  9.13863935e-04, -4.24856385e-03,\n",
       "       -1.19299102e-03,  2.28677028e-03,  3.99159247e-03,  2.45654206e-03,\n",
       "        2.98025756e-03, -3.89356056e-04, -1.23651820e-03, -2.35441096e-04,\n",
       "        8.31730160e-03, -6.13403856e-03, -7.77103452e-04,  2.54953950e-04,\n",
       "        1.14242196e-03, -3.03946813e-03,  1.48632700e-03,  1.12732832e-03,\n",
       "        1.59800924e-03,  3.42468773e-03,  5.15474347e-03,  3.71696732e-03,\n",
       "        4.62163883e-03,  5.67494710e-03,  4.00776955e-03,  5.33140335e-03,\n",
       "        1.91207890e-03,  4.11158031e-03,  2.36427902e-03,  2.54831152e-03,\n",
       "        4.20442777e-03,  4.86234566e-04,  2.75193921e-03,  3.66046645e-03,\n",
       "        4.06071019e-03,  1.87942884e-03,  2.54180925e-03,  6.33298200e-03,\n",
       "        6.01352874e-04, -3.58462365e-04,  1.37734778e-03,  3.27537436e-03,\n",
       "        2.10292263e-03,  3.50562275e-03,  2.03494899e-03,  8.83333857e-04,\n",
       "        1.38516338e-04,  2.95109557e-03, -3.38088098e-03, -9.33711344e-04,\n",
       "        2.25001044e-03, -1.82764554e-03,  8.22579761e-04,  8.59244848e-04,\n",
       "        1.84175780e-03,  7.56200973e-04,  8.91912239e-04,  2.44688230e-03,\n",
       "        6.02205143e-04, -3.83325949e-03, -1.27438693e-03, -2.49605017e-03,\n",
       "        2.70702878e-03,  2.13615822e-03,  1.87094194e-03,  2.79858512e-03,\n",
       "        1.64722225e-03,  2.84542526e-03,  3.29857465e-03, -1.80146018e-03,\n",
       "        8.94690558e-04,  2.09895524e-03, -1.26970398e-03,  1.94035381e-03,\n",
       "        1.87398089e-03,  2.81291440e-03,  3.77768642e-03,  2.92268018e-03,\n",
       "        2.71241561e-03,  6.27525710e-04, -2.66075306e-03,  5.91194544e-04,\n",
       "       -8.52461600e-04,  2.96438914e-03,  2.77162075e-03,  2.10979684e-03,\n",
       "       -2.88510794e-04,  7.35153492e-04,  2.86985729e-03, -2.79260372e-03,\n",
       "       -5.66985737e-04,  1.62037949e-03, -3.01949458e-03,  2.59856225e-03,\n",
       "        1.65506903e-03,  1.86175273e-03,  2.51938278e-03,  3.88787073e-03,\n",
       "        3.83271311e-03,  1.27518700e-03, -4.19746870e-03, -1.80503515e-04,\n",
       "       -3.20634759e-03,  1.52409405e-03,  2.88506443e-03,  1.56333691e-03,\n",
       "        2.84148138e-03, -3.66302851e-04, -4.00210966e-03, -1.71340299e-03,\n",
       "       -3.36772491e-03, -5.41805372e-03,  1.71351688e-03, -2.03617916e-03,\n",
       "        3.33519377e-04,  2.54501933e-03,  2.10144222e-03,  2.17883236e-03,\n",
       "       -1.38397185e-04, -4.66031229e-03, -1.51691689e-03, -2.53977242e-03,\n",
       "        2.63865197e-03,  2.64459440e-04,  1.88547239e-03,  1.90903095e-03,\n",
       "       -1.03231545e-03, -1.24889951e-03, -1.10822888e-03, -1.37123191e-04,\n",
       "        4.45929023e-04,  2.12342077e-03,  3.21529396e-04,  3.11080601e-03,\n",
       "       -5.71860954e-04,  1.30293617e-03,  4.11194439e-04, -2.99942142e-03,\n",
       "       -1.60583552e-04,  4.75998074e-04,  1.52282077e-03,  4.45733704e-04,\n",
       "        4.82310265e-04, -2.17203418e-03, -9.71802367e-04, -7.91057881e-06,\n",
       "       -1.24333085e-03,  3.05149900e-03,  2.26549932e-03,  3.13387794e-03,\n",
       "        1.08664281e-03,  3.52453212e-03,  4.43850699e-03,  2.94250502e-03,\n",
       "       -3.46211927e-03, -1.01714764e-03, -3.47840221e-03,  3.37700546e-03,\n",
       "        6.83973771e-04,  1.96133363e-03, -2.53862314e-03, -2.10824384e-03,\n",
       "       -4.06462042e-03,  6.23272405e-04, -2.26033083e-03, -7.13114730e-04,\n",
       "       -3.06842318e-03,  4.25429608e-04,  1.07856010e-04,  1.97250552e-04,\n",
       "       -4.84013729e-03, -5.22553420e-04, -2.15316461e-03,  3.19902944e-04,\n",
       "       -1.75896426e-03,  6.92491886e-03, -4.46246142e-04, -3.67520873e-03,\n",
       "       -4.31386514e-04,  3.16661611e-04,  2.67270140e-03, -4.64672820e-04,\n",
       "        2.04564315e-04,  6.09068224e-04,  2.73419918e-03, -4.03787850e-03,\n",
       "        1.35083019e-04, -4.76098064e-03,  2.17448128e-03, -1.28734390e-03,\n",
       "        2.49277650e-03, -6.14660294e-04,  4.37773726e-03,  1.30136060e-03,\n",
       "        3.18892309e-03,  1.24196578e-03, -1.72739611e-04,  4.45824920e-03,\n",
       "        3.08465267e-03, -2.30792724e-03, -2.68545375e-03, -5.52227334e-03,\n",
       "        1.99636810e-03,  4.63927760e-03,  1.46487441e-03,  3.75461947e-04,\n",
       "       -5.06600918e-04,  8.18324553e-04, -8.35170689e-04,  3.58270861e-04,\n",
       "        7.38447751e-04,  2.41058212e-03, -3.55974566e-03,  1.13534670e-03,\n",
       "       -3.76781720e-03,  2.31518021e-03, -2.03046714e-03,  3.06118750e-03,\n",
       "        2.01528491e-03,  3.48377286e-03, -1.18085452e-03,  2.39646355e-03,\n",
       "        1.86191205e-03,  2.19139339e-03,  3.82078399e-04,  2.38364572e-03,\n",
       "       -9.46693515e-04,  3.56882655e-03,  1.64859177e-05,  1.04005311e-03,\n",
       "        2.77110578e-03,  1.43834925e-03,  1.72640341e-03,  3.58285844e-03,\n",
       "        1.90295862e-04,  2.17858548e-03, -6.58223744e-04, -1.76054899e-03,\n",
       "        3.05082377e-03,  1.40565846e-03,  1.50309683e-03,  1.29787871e-03,\n",
       "        1.63322507e-03,  1.42194400e-03, -1.39073237e-04, -2.51452886e-03,\n",
       "        1.09714210e-03, -5.29171898e-04,  2.77752102e-03, -6.19701994e-04,\n",
       "        7.56300367e-04,  5.24392701e-04, -8.49978881e-04, -1.91599865e-03,\n",
       "       -2.76361016e-03, -2.76409527e-03,  0.00000000e+00,  3.25851737e-04,\n",
       "        1.54631145e-03,  2.00203768e-03,  2.96301140e-03,  9.90264901e-04,\n",
       "       -1.87341444e-03, -5.11902154e-05, -1.18506142e-03,  3.24655972e-03,\n",
       "        1.05688994e-03,  2.35419632e-03,  3.56634914e-04, -3.36766719e-04,\n",
       "        1.22887370e-03, -1.49549530e-04,  4.28977285e-03,  4.79866951e-04,\n",
       "        1.20597103e-03,  0.00000000e+00,  2.27026602e-03, -3.58462365e-04,\n",
       "       -4.51927230e-06, -3.07007273e-03,  6.92491886e-03,  2.04655437e-03,\n",
       "       -3.32671447e-03, -7.47170242e-04, -4.02029829e-03,  0.00000000e+00,\n",
       "       -2.23554871e-03,  1.89210164e-03, -7.37065683e-04,  0.00000000e+00,\n",
       "        6.32361300e-04, -4.79315208e-03,  0.00000000e+00,  2.02974551e-05,\n",
       "        2.02111645e-03,  1.47444261e-03,  4.41019778e-03,  0.00000000e+00,\n",
       "        0.00000000e+00, -5.92804083e-05,  9.12259249e-04, -1.14086256e-03,\n",
       "       -6.95620549e-04, -3.46837128e-03, -1.86250683e-03,  1.06409808e-03,\n",
       "       -3.17999298e-03, -1.07438207e-03,  1.15920045e-03, -4.82936541e-04,\n",
       "        9.70153572e-04,  4.15443608e-04, -1.70230906e-03,  1.13665119e-03,\n",
       "       -1.79616290e-03, -2.96679927e-03, -1.11288254e-03, -3.75928702e-04,\n",
       "       -8.26919964e-05,  2.84999208e-03, -1.37177673e-03, -6.97314867e-04,\n",
       "        1.55478221e-03, -4.49767560e-04, -5.13615853e-04,  7.03044911e-05,\n",
       "        2.22209626e-04,  5.62885999e-04,  2.00483407e-03,  1.81591712e-05,\n",
       "        1.12002381e-04,  2.69275357e-04, -9.64992388e-05,  9.68119497e-05,\n",
       "       -2.97923966e-04, -6.69371189e-04, -2.71478929e-04, -4.92808368e-04,\n",
       "       -2.91386367e-04, -1.45416069e-04,  3.86093881e-04, -1.33518306e-04,\n",
       "       -8.25475891e-04,  3.77981025e-04, -8.19863367e-04,  9.75432871e-04,\n",
       "        2.94475971e-04,  1.25448188e-05, -2.89817463e-04, -5.51465166e-04,\n",
       "        7.96129024e-04,  4.40318828e-04, -7.20644746e-04,  1.99297243e-03,\n",
       "       -6.92955464e-04, -3.40223361e-05, -1.34404679e-03,  9.68405221e-04,\n",
       "        0.00000000e+00,  5.77567943e-04, -1.02401860e-03])"
      ]
     },
     "execution_count": 292,
     "metadata": {},
     "output_type": "execute_result"
    }
   ],
   "source": [
    "\n",
    "model_fit(gsridge.best_estimator_, X=std_test, y=y_test, plot=True)\n",
    "print(\"R^2 Train\")\n",
    "print(r2_score(y_train, gsridge.best_estimator_.predict(std_train)))\n",
    "print(\"R^2\")\n",
    "print(r2_score(y_test, gsridge.best_estimator_.predict(std_test)))\n",
    "print(\"MSE\")\n",
    "print(mean_squared_error(y_test, gsridge.best_estimator_.predict(std_test)))\n",
    "\n",
    "\n",
    "get_coefs(gsridge.best_estimator_)"
   ]
  },
  {
   "cell_type": "code",
   "execution_count": 297,
   "id": "e95dca5f",
   "metadata": {},
   "outputs": [
    {
     "name": "stdout",
     "output_type": "stream",
     "text": [
      "        value        variable       abs   rank\n",
      "43   0.008317    michael_perc  0.008317    1.0\n",
      "19   0.007984         michael  0.007984    2.0\n",
      "208  0.006925       andy:ryan  0.006925    3.0\n",
      "311  0.006925    darryl:creed  0.006925    4.0\n",
      "70   0.006333    nellie_dummy  0.006333    5.0\n",
      "..        ...             ...       ...    ...\n",
      "355  0.000018  stanley:robert  0.000018  382.0\n",
      "261  0.000016    erin:phyllis  0.000016  383.0\n",
      "373  0.000013   nellie:robert  0.000013  384.0\n",
      "178 -0.000008      jim:nellie  0.000008  385.0\n",
      "309 -0.000005     darryl:gabe  0.000005  386.0\n",
      "\n",
      "[386 rows x 4 columns]\n"
     ]
    },
    {
     "data": {
      "text/plain": [
       "[]"
      ]
     },
     "execution_count": 297,
     "metadata": {},
     "output_type": "execute_result"
    }
   ],
   "source": [
    "coefs_ridge = get_coefs(gsridge.best_estimator_)[1:] != 0\n",
    "sig_coef_ridge = pd.DataFrame({\"value\": get_coefs(gsridge.best_estimator_)[1:][coefs_ridge], \"variable\": std_test.loc[:,coefs_ridge].columns})\n",
    "sig_coef_ridge[\"abs\"] = sig_coef_ridge[\"value\"].abs()\n",
    "sig_coef_ridge[\"rank\"] = sig_coef_ridge[\"abs\"].rank(ascending = False)\n",
    "sig_coef_ridge = sig_coef_ridge.sort_values(by = [\"rank\"])\n",
    "print(sig_coef_ridge)\n",
    "\n",
    "above_1perc_ridge = sig_coef_ridge.loc[sig_coef_ridge[\"abs\"] > 0.01,\"variable\"].to_list()\n",
    "above_1perc_ridge"
   ]
  },
  {
   "cell_type": "code",
   "execution_count": 343,
   "id": "8405b41e",
   "metadata": {},
   "outputs": [
    {
     "data": {
      "text/plain": [
       "GridSearchCV(cv=KFold(n_splits=5, random_state=32, shuffle=True),\n",
       "             estimator=Pipeline(steps=[('RF',\n",
       "                                        RandomForestRegressor(max_depth=5,\n",
       "                                                              max_features='sqrt',\n",
       "                                                              random_state=22))]),\n",
       "             param_grid={'RF__min_impurity_decrease': array([0. , 0.1, 0.2]),\n",
       "                         'RF__min_samples_leaf': array([1, 2, 3, 4]),\n",
       "                         'RF__n_estimators': array([100, 120, 140, 160, 180, 200, 220, 240, 260, 280])},\n",
       "             scoring='neg_root_mean_squared_error')"
      ]
     },
     "execution_count": 343,
     "metadata": {},
     "output_type": "execute_result"
    }
   ],
   "source": [
    "##Random Forest Regressor\n",
    "\n",
    "from sklearn.ensemble import RandomForestRegressor\n",
    "\n",
    "RF = RandomForestRegressor(max_features = \"sqrt\", random_state = 22, max_depth = 5)\n",
    "RF_pipe = Pipeline([(\"RF\", RF)])\n",
    "grid_params_rf = {\n",
    "    \"RF__n_estimators\": np.arange(100,300, step = 20),\n",
    "    \"RF__min_samples_leaf\": np.arange(1,5),\n",
    "    \"RF__min_impurity_decrease\": np.arange(0,0.3, step = 0.1)\n",
    "}\n",
    "\n",
    "gs_RF = GridSearchCV(RF_pipe, grid_params_rf, cv=KFold(5, shuffle=True, random_state=32),\n",
    "    scoring=\"neg_root_mean_squared_error\"  ##negative because for optimization we need to find the minimum but the default optimizer is a maximizer (so we reverse this)\n",
    "                 )\n",
    "gs_RF.fit(std_train, y_train)\n",
    "\n"
   ]
  },
  {
   "cell_type": "code",
   "execution_count": 344,
   "id": "d249ba0b",
   "metadata": {
    "scrolled": true
   },
   "outputs": [
    {
     "data": {
      "text/plain": [
       "{'RF__min_impurity_decrease': 0.0,\n",
       " 'RF__min_samples_leaf': 2,\n",
       " 'RF__n_estimators': 220}"
      ]
     },
     "execution_count": 344,
     "metadata": {},
     "output_type": "execute_result"
    }
   ],
   "source": [
    "gs_RF.best_params_\n"
   ]
  },
  {
   "cell_type": "code",
   "execution_count": 345,
   "id": "91c5b6a1",
   "metadata": {
    "scrolled": false
   },
   "outputs": [
    {
     "data": {
      "image/png": "[encoded data removed]",
      "text/plain": [
       "<Figure size 864x432 with 2 Axes>"
      ]
     },
     "metadata": {
      "needs_background": "light"
     },
     "output_type": "display_data"
    },
    {
     "name": "stdout",
     "output_type": "stream",
     "text": [
      "R^2 Train\n",
      "0.7484552565516125\n",
      "R^2\n",
      "0.33878614288038666\n",
      "MSE\n",
      "0.1656077482316823\n"
     ]
    }
   ],
   "source": [
    "model_fit(gs_RF.best_estimator_, X = std_test, y = y_test, plot = True)\n",
    "print(\"R^2 Train\")\n",
    "print(r2_score(y_train, gs_RF.best_estimator_.predict(std_train)))\n",
    "print(\"R^2\")\n",
    "print(r2_score(y_test, gs_RF.best_estimator_.predict(std_test)))\n",
    "print(\"MSE\")\n",
    "print(mean_squared_error(y_test, gs_RF.best_estimator_.predict(std_test)))\n",
    "\n"
   ]
  },
  {
   "cell_type": "code",
   "execution_count": 347,
   "id": "cf687c13",
   "metadata": {
    "scrolled": false
   },
   "outputs": [
    {
     "data": {
      "image/png": "[encoded data removed]",
      "text/plain": [
       "<Figure size 864x432 with 2 Axes>"
      ]
     },
     "metadata": {
      "needs_background": "light"
     },
     "output_type": "display_data"
    },
    {
     "name": "stdout",
     "output_type": "stream",
     "text": [
      "R^2\n",
      "0.3295553391409428\n"
     ]
    },
    {
     "data": {
      "text/plain": [
       "<AxesSubplot:>"
      ]
     },
     "execution_count": 347,
     "metadata": {},
     "output_type": "execute_result"
    },
    {
     "data": {
      "image/png": "[encoded data removed]",
      "text/plain": [
       "<Figure size 1080x576 with 1 Axes>"
      ]
     },
     "metadata": {
      "needs_background": "light"
     },
     "output_type": "display_data"
    }
   ],
   "source": [
    "from sklearn.ensemble import RandomForestRegressor\n",
    "\n",
    "\n",
    "##Feature importances (using best parameters found above)\n",
    "RF = RandomForestRegressor(max_features = \"sqrt\", n_estimators = 220, min_samples_leaf = 2, random_state = 2, max_depth = 5)\n",
    "RF.fit(std_train, y_train)\n",
    "model_fit(RF, X = std_test, y = y_test, plot = True)\n",
    "print(\"R^2\")\n",
    "print(r2_score(y_test, RF.predict(std_test)))\n",
    "\n",
    "\n",
    "# fig = plt.fig(figsize = (15,8))\n",
    "feats = {} # a dict to hold feature_name: feature_importance\n",
    "for feature, importance in zip(std_train.columns, RF.feature_importances_):\n",
    "    feats[feature] = importance #add the name/value pair \n",
    "\n",
    "importances = pd.DataFrame.from_dict(feats, orient='index').rename(columns={0: 'Gini-importance'})\n",
    "# importances.sort_values(by='Gini-importance').plot(kind='bar', rot=45, figsize = (15,8))\n",
    "\n",
    "top_importance = importances.sort_values(by = \"Gini-importance\", \n",
    "                                         ascending = False).loc[importances[\"Gini-importance\"] > 0.01,:]\n",
    "\n",
    "top_importance.plot(kind = 'bar', rot = 90, figsize = (15,8))\n",
    "\n",
    "# importances = RF.feature_importances_\n",
    "# std = np.std([tree.feature_importances_ for tree in RF], axis=0)\n",
    "\n",
    "# forest_importances = pd.Series(importances)\n",
    "\n",
    "# fig, ax = plt.subplots(figsize = (15,8))\n",
    "# forest_importances.plot.bar(yerr=std, ax=ax)\n",
    "# ax.set_title(\"Feature importances using MDI\")\n",
    "# ax.set_ylabel(\"Mean decrease in impurity\")\n",
    "# fig.tight_layout()"
   ]
  },
  {
   "cell_type": "code",
   "execution_count": 248,
   "id": "298eab40",
   "metadata": {},
   "outputs": [
    {
     "data": {
      "text/plain": [
       "array([8.35351242, 8.28890054, 8.41304978, 8.34021417, 8.37877726,\n",
       "       8.46030309, 7.82231312, 8.3276914 , 7.81208639, 8.43821343,\n",
       "       8.69703622, 7.94108341, 8.51777671, 8.34099322, 8.48763164,\n",
       "       8.4120937 , 8.60794734, 7.91744762, 8.49554655, 7.9609527 ,\n",
       "       8.39538828, 7.8251537 , 8.0405493 , 8.18477626, 8.33086194,\n",
       "       8.35645497, 8.45480928, 8.45604844, 7.94562915, 8.38062368,\n",
       "       8.44652345, 7.80532154, 8.24498359, 8.41739853, 8.15502531,\n",
       "       7.8513804 , 8.52700421, 8.73049179, 8.29001134, 8.09681832,\n",
       "       7.77773082, 8.38371442, 8.31988003, 7.96641067, 8.20352616,\n",
       "       8.4643721 , 7.93945554, 7.95983098, 8.17865815, 8.52174979,\n",
       "       8.43913273, 7.94736967, 8.16410432, 8.21353959, 7.89339217,\n",
       "       8.72751859, 8.34336675, 8.04673733, 8.06842068, 8.63731594,\n",
       "       8.35425025, 8.50997371, 8.39343982, 8.30015445, 8.63326984,\n",
       "       8.1470434 , 7.80413671, 8.31663885, 8.49950427, 8.0282981 ,\n",
       "       8.39948682, 8.64703709, 8.28133732, 8.70076465])"
      ]
     },
     "execution_count": 248,
     "metadata": {},
     "output_type": "execute_result"
    }
   ],
   "source": [
    "gs_RF.best_estimator_.predict(std_test)"
   ]
  },
  {
   "cell_type": "code",
   "execution_count": null,
   "id": "053c85fe",
   "metadata": {},
   "outputs": [],
   "source": [
    "!pip install shap"
   ]
  },
  {
   "cell_type": "code",
   "execution_count": 348,
   "id": "facc6194",
   "metadata": {},
   "outputs": [
    {
     "data": {
      "image/png": "[encoded data removed]",
      "text/plain": [
       "<Figure size 576x684 with 1 Axes>"
      ]
     },
     "metadata": {
      "needs_background": "light"
     },
     "output_type": "display_data"
    }
   ],
   "source": [
    "###https://towardsdatascience.com/explain-your-model-with-the-shap-values-bc36aac4de3d\n",
    "\n",
    "import shap\n",
    "shap_values = shap.TreeExplainer(RF).shap_values(std_train)\n",
    "shap.summary_plot(shap_values, std_train, plot_type=\"bar\")\n"
   ]
  },
  {
   "cell_type": "code",
   "execution_count": 349,
   "id": "2f20ccff",
   "metadata": {},
   "outputs": [
    {
     "data": {
      "image/png": "[encoded data removed]",
      "text/plain": [
       "<Figure size 576x972 with 2 Axes>"
      ]
     },
     "metadata": {
      "needs_background": "light"
     },
     "output_type": "display_data"
    }
   ],
   "source": [
    "##used matplotlib version 3.4.3 to get this plot correct.\n",
    "\n",
    "f = plt.figure(figsize = (15,8))\n",
    "shap.summary_plot(shap_values, std_train, max_display = 30)\n",
    "# f.savefig(\"/summary_plot1.png\", bbox_inches='tight', dpi=600)"
   ]
  },
  {
   "cell_type": "code",
   "execution_count": null,
   "id": "8f5046a7",
   "metadata": {},
   "outputs": [],
   "source": [
    "##RF classifier\n",
    "\n",
    "from sklearn.ensemble import RandomForestClassifier\n",
    "\n",
    "RF_cl_grid = RandomForestClassifier(max_features = \"sqrt\")\n",
    "smt_grid = SMOTE(random_state=37, sampling_strategy = \"all\")\n",
    "RF_pipe_grid = Pipeline([('smt', smt_grid), (\"RF\", RF_cl_grid)])\n",
    "grid_params_rf_cl = {\n",
    "    \"smt__k_neighbors\": np.arange(1,6),\n",
    "    \"RF__n_estimators\": np.arange(70,200, step = 10),\n",
    "    \"RF__min_samples_leaf\": np.arange(1,3)\n",
    "}\n",
    "\n",
    "\n",
    "search_RFcl = GridSearchCV(RF_pipe_grid, grid_params_rf_cl, cv=KFold(5, shuffle=True, random_state=32),\n",
    "                          )\n",
    "search_RFcl.fit(X_train, y_train_cl)\n",
    "print(\"Best parameter (CV score=%0.3f):\" % search_RFcl.best_score_)\n",
    "print(search_RFcl.best_params_)\n",
    "\n",
    "\n",
    "\n",
    "# search_ = GridSearchCV(RF_pipe, grid_params_rf, cv=KFold(5, shuffle=True, random_state=32),\n",
    "#     scoring=\"neg_root_mean_squared_error\"  ##negative because for optimization we need to find the minimum but the default optimizer is a maximizer (so we reverse this)\n",
    "#                 )\n",
    "# search_RFcl.fit(std_train, y_train)\n"
   ]
  },
  {
   "cell_type": "code",
   "execution_count": null,
   "id": "acf459d2",
   "metadata": {},
   "outputs": [],
   "source": [
    "search_RFcl.best_params_"
   ]
  },
  {
   "cell_type": "code",
   "execution_count": null,
   "id": "ff17cb84",
   "metadata": {
    "scrolled": false
   },
   "outputs": [],
   "source": [
    "\n",
    "smt = SMOTE(random_state = 42, sampling_strategy = \"not majority\", k_neighbors =1)\n",
    "RF_cl = RandomForestClassifier(max_features = \"sqrt\", min_samples_leaf = 1, n_estimators = 130)\n",
    "RF_cl_pipeline = Pipeline([('smt', smt), ('RF_cl', RF_cl)])\n",
    "\n",
    "RF_cl_pipeline.fit(X_train, y_train_cl) \n",
    "y_hat = RF_cl_pipeline.predict(X_test)\n",
    "print(classification_report(y_test_cl, y_hat))\n",
    "print(RF_cl.score(X_test, y_test_cl))"
   ]
  },
  {
   "cell_type": "code",
   "execution_count": null,
   "id": "84425dfe",
   "metadata": {},
   "outputs": [],
   "source": [
    "##RF classifier\n",
    "\n",
    "\n",
    "RF_cl_grid = RandomForestClassifier(max_features = \"sqrt\")\n",
    "over_grid = RandomOverSampler(random_state = 37, sampling_strategy = \"not majority\")\n",
    "RF_pipe_grid_over = Pipeline([('over', over_grid), (\"RF\", RF_cl_grid)])\n",
    "grid_params_rf_cl = {\n",
    "    \"RF__n_estimators\": np.arange(70,200, step = 10),\n",
    "    \"RF__min_samples_leaf\": np.arange(1,3)\n",
    "}\n",
    "\n",
    "\n",
    "search_RFcl_over = GridSearchCV(RF_pipe_grid_over, grid_params_rf_cl, cv=KFold(5, shuffle=True, random_state=32),\n",
    "                          )\n",
    "search_RFcl_over.fit(X_train, y_train_cl)\n",
    "print(\"Best parameter (CV score=%0.3f):\" % search_RFcl.best_score_)\n",
    "print(search_RFcl_over.best_params_)\n",
    "\n",
    "\n"
   ]
  },
  {
   "cell_type": "code",
   "execution_count": null,
   "id": "916ef7e8",
   "metadata": {},
   "outputs": [],
   "source": [
    "search_RFcl_over.best_params_"
   ]
  },
  {
   "cell_type": "code",
   "execution_count": null,
   "id": "054065bf",
   "metadata": {},
   "outputs": [],
   "source": [
    "RF_over = RandomForestClassifier(max_features = \"sqrt\", n_estimators = 90, min_samples_leaf = 1)\n",
    "over = RandomOverSampler(random_state = 37, sampling_strategy = \"not majority\")\n",
    "RF_pipe_over = Pipeline([(\"over\", over), (\"RF\", RF_over)])\n",
    "\n",
    "RF_pipe_over.fit(X_train, y_train_cl) \n",
    "y_hat = RF_pipe_over.predict(X_test)\n",
    "print(classification_report(y_test_cl, y_hat))\n",
    "print(RF_over.score(X_test, y_test_cl))\n",
    "\n",
    "importances = RF_over.feature_importances_\n",
    "std = np.std([tree.feature_importances_ for tree in RF_over.estimators_], axis=0)\n",
    "\n",
    "forest_importances = pd.Series(importances)\n",
    "\n",
    "fig, ax = plt.subplots(figsize = (15,8))\n",
    "forest_importances.plot.bar(yerr=std, ax=ax)\n",
    "ax.set_title(\"Feature importances using MDI\")\n",
    "ax.set_ylabel(\"Mean decrease in impurity\")\n",
    "fig.tight_layout()"
   ]
  },
  {
   "cell_type": "markdown",
   "id": "0abc0e3b",
   "metadata": {
    "id": "edQVULLU7Fo3"
   },
   "source": [
    "## 4. Discussion & Conclusions\n"
   ]
  },
  {
   "cell_type": "markdown",
   "id": "dff2c7cd",
   "metadata": {
    "id": "Fi0yKPrQ7Fo4"
   },
   "source": [
    "*In this section you should provide a general overview of your final model, its performance, and reliability. You should discuss what the implications of your model are in terms of the included features, predictive performance, and anything else you think is relevant.*\n",
    "\n",
    "*This should be written with a target audience of a NBC Universal executive who is with the show and  university level mathematics but not necessarily someone who has taken a postgraduate statistical modeling course. Your goal should be to convince this audience that your model is both accurate and useful.*\n",
    "\n",
    "*Finally, you should include concrete recommendations on what NBC Universal should do to make their reunion episode a popular as possible.*\n",
    "\n",
    "*Keep in mind that a negative result, i.e. a model that does not work well predictively, that is well explained and justified in terms of why it failed will likely receive higher marks than a model with strong predictive performance but with poor or incorrect explinations / justifications.*"
   ]
  },
  {
   "cell_type": "code",
   "execution_count": null,
   "id": "69773259",
   "metadata": {},
   "outputs": [],
   "source": []
  }
 ],
 "metadata": {
  "kernelspec": {
   "display_name": "Python 3 (ipykernel)",
   "language": "python",
   "name": "python3"
  },
  "language_info": {
   "codemirror_mode": {
    "name": "ipython",
    "version": 3
   },
   "file_extension": ".py",
   "mimetype": "text/x-python",
   "name": "python",
   "nbconvert_exporter": "python",
   "pygments_lexer": "ipython3",
   "version": "3.9.7"
  }
 },
 "nbformat": 4,
 "nbformat_minor": 5
}
