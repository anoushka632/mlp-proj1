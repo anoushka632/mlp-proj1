{
 "cells": [
  {
   "cell_type": "markdown",
   "id": "65e89a69",
   "metadata": {
    "id": "rOyOkJJA7Foy"
   },
   "source": [
    "# Machine Learning in Python - Project 1\n",
    "\n",
    "Due Friday, March 11th by 5 pm.\n",
    "\n",
    "*include contributors names here*"
   ]
  },
  {
   "cell_type": "markdown",
   "id": "f9877315",
   "metadata": {
    "id": "PqPpPRE37Fo0"
   },
   "source": [
    "## 0. Setup"
   ]
  },
  {
   "cell_type": "code",
   "execution_count": 1,
   "id": "97696a11",
   "metadata": {},
   "outputs": [
    {
     "name": "stdout",
     "output_type": "stream",
     "text": [
      "Requirement already satisfied: imblearn in c:\\users\\anoushka\\anaconda3\\lib\\site-packages (0.0)\n",
      "Requirement already satisfied: imbalanced-learn in c:\\users\\anoushka\\anaconda3\\lib\\site-packages (from imblearn) (0.9.0)\n",
      "Requirement already satisfied: scipy>=1.1.0 in c:\\users\\anoushka\\anaconda3\\lib\\site-packages (from imbalanced-learn->imblearn) (1.6.2)\n",
      "Requirement already satisfied: joblib>=0.11 in c:\\users\\anoushka\\anaconda3\\lib\\site-packages (from imbalanced-learn->imblearn) (1.0.1)\n",
      "Requirement already satisfied: threadpoolctl>=2.0.0 in c:\\users\\anoushka\\anaconda3\\lib\\site-packages (from imbalanced-learn->imblearn) (2.1.0)\n",
      "Requirement already satisfied: numpy>=1.14.6 in c:\\users\\anoushka\\anaconda3\\lib\\site-packages (from imbalanced-learn->imblearn) (1.20.1)\n",
      "Requirement already satisfied: scikit-learn>=1.0.1 in c:\\users\\anoushka\\anaconda3\\lib\\site-packages (from imbalanced-learn->imblearn) (1.0.2)\n"
     ]
    }
   ],
   "source": [
    "!pip install imblearn  "
   ]
  },
  {
   "cell_type": "code",
   "execution_count": 2,
   "id": "08eacf41",
   "metadata": {},
   "outputs": [
    {
     "name": "stdout",
     "output_type": "stream",
     "text": [
      "Requirement already satisfied: schrutepy in c:\\users\\anoushka\\anaconda3\\lib\\site-packages (0.1.3)\n",
      "Requirement already satisfied: wheel in c:\\users\\anoushka\\anaconda3\\lib\\site-packages (from schrutepy) (0.36.2)\n",
      "Requirement already satisfied: pip in c:\\users\\anoushka\\anaconda3\\lib\\site-packages (from schrutepy) (21.0.1)\n",
      "Requirement already satisfied: pandas in c:\\users\\anoushka\\anaconda3\\lib\\site-packages (from schrutepy) (1.2.4)\n",
      "Requirement already satisfied: twine>=3 in c:\\users\\anoushka\\anaconda3\\lib\\site-packages (from schrutepy) (3.8.0)\n",
      "Requirement already satisfied: ipython>=6 in c:\\users\\anoushka\\anaconda3\\lib\\site-packages (from schrutepy) (7.22.0)\n",
      "Requirement already satisfied: setuptools>=18.5 in c:\\users\\anoushka\\anaconda3\\lib\\site-packages (from ipython>=6->schrutepy) (52.0.0.post20210125)\n",
      "Requirement already satisfied: pickleshare in c:\\users\\anoushka\\anaconda3\\lib\\site-packages (from ipython>=6->schrutepy) (0.7.5)\n",
      "Requirement already satisfied: decorator in c:\\users\\anoushka\\anaconda3\\lib\\site-packages (from ipython>=6->schrutepy) (5.0.6)\n",
      "Requirement already satisfied: traitlets>=4.2 in c:\\users\\anoushka\\anaconda3\\lib\\site-packages (from ipython>=6->schrutepy) (5.0.5)\n",
      "Requirement already satisfied: pygments in c:\\users\\anoushka\\anaconda3\\lib\\site-packages (from ipython>=6->schrutepy) (2.8.1)\n",
      "Requirement already satisfied: backcall in c:\\users\\anoushka\\anaconda3\\lib\\site-packages (from ipython>=6->schrutepy) (0.2.0)\n",
      "Requirement already satisfied: jedi>=0.16 in c:\\users\\anoushka\\anaconda3\\lib\\site-packages (from ipython>=6->schrutepy) (0.17.2)\n",
      "Requirement already satisfied: colorama in c:\\users\\anoushka\\anaconda3\\lib\\site-packages (from ipython>=6->schrutepy) (0.4.4)\n",
      "Requirement already satisfied: prompt-toolkit!=3.0.0,!=3.0.1,<3.1.0,>=2.0.0 in c:\\users\\anoushka\\anaconda3\\lib\\site-packages (from ipython>=6->schrutepy) (3.0.17)\n",
      "Requirement already satisfied: parso<0.8.0,>=0.7.0 in c:\\users\\anoushka\\anaconda3\\lib\\site-packages (from jedi>=0.16->ipython>=6->schrutepy) (0.7.0)\n",
      "Requirement already satisfied: wcwidth in c:\\users\\anoushka\\anaconda3\\lib\\site-packages (from prompt-toolkit!=3.0.0,!=3.0.1,<3.1.0,>=2.0.0->ipython>=6->schrutepy) (0.2.5)\n",
      "Requirement already satisfied: ipython-genutils in c:\\users\\anoushka\\anaconda3\\lib\\site-packages (from traitlets>=4.2->ipython>=6->schrutepy) (0.2.0)\n",
      "Requirement already satisfied: keyring>=15.1 in c:\\users\\anoushka\\anaconda3\\lib\\site-packages (from twine>=3->schrutepy) (22.3.0)\n",
      "Requirement already satisfied: requests-toolbelt!=0.9.0,>=0.8.0 in c:\\users\\anoushka\\anaconda3\\lib\\site-packages (from twine>=3->schrutepy) (0.9.1)\n",
      "Requirement already satisfied: importlib-metadata>=3.6 in c:\\users\\anoushka\\anaconda3\\lib\\site-packages (from twine>=3->schrutepy) (3.10.0)\n",
      "Requirement already satisfied: requests>=2.20 in c:\\users\\anoushka\\anaconda3\\lib\\site-packages (from twine>=3->schrutepy) (2.25.1)\n",
      "Requirement already satisfied: readme-renderer>=21.0 in c:\\users\\anoushka\\anaconda3\\lib\\site-packages (from twine>=3->schrutepy) (32.0)\n",
      "Requirement already satisfied: urllib3>=1.26.0 in c:\\users\\anoushka\\anaconda3\\lib\\site-packages (from twine>=3->schrutepy) (1.26.4)\n",
      "Requirement already satisfied: rfc3986>=1.4.0 in c:\\users\\anoushka\\anaconda3\\lib\\site-packages (from twine>=3->schrutepy) (2.0.0)\n",
      "Requirement already satisfied: pkginfo>=1.8.1 in c:\\users\\anoushka\\anaconda3\\lib\\site-packages (from twine>=3->schrutepy) (1.8.2)\n",
      "Requirement already satisfied: tqdm>=4.14 in c:\\users\\anoushka\\anaconda3\\lib\\site-packages (from twine>=3->schrutepy) (4.59.0)\n",
      "Requirement already satisfied: zipp>=0.5 in c:\\users\\anoushka\\anaconda3\\lib\\site-packages (from importlib-metadata>=3.6->twine>=3->schrutepy) (3.4.1)\n",
      "Requirement already satisfied: pywin32-ctypes!=0.1.0,!=0.1.1 in c:\\users\\anoushka\\anaconda3\\lib\\site-packages (from keyring>=15.1->twine>=3->schrutepy) (0.2.0)\n",
      "Requirement already satisfied: docutils>=0.13.1 in c:\\users\\anoushka\\anaconda3\\lib\\site-packages (from readme-renderer>=21.0->twine>=3->schrutepy) (0.17)\n",
      "Requirement already satisfied: bleach>=2.1.0 in c:\\users\\anoushka\\anaconda3\\lib\\site-packages (from readme-renderer>=21.0->twine>=3->schrutepy) (3.3.0)\n",
      "Requirement already satisfied: six>=1.9.0 in c:\\users\\anoushka\\anaconda3\\lib\\site-packages (from bleach>=2.1.0->readme-renderer>=21.0->twine>=3->schrutepy) (1.15.0)\n",
      "Requirement already satisfied: webencodings in c:\\users\\anoushka\\anaconda3\\lib\\site-packages (from bleach>=2.1.0->readme-renderer>=21.0->twine>=3->schrutepy) (0.5.1)\n",
      "Requirement already satisfied: packaging in c:\\users\\anoushka\\anaconda3\\lib\\site-packages (from bleach>=2.1.0->readme-renderer>=21.0->twine>=3->schrutepy) (20.9)\n",
      "Requirement already satisfied: idna<3,>=2.5 in c:\\users\\anoushka\\anaconda3\\lib\\site-packages (from requests>=2.20->twine>=3->schrutepy) (2.10)\n",
      "Requirement already satisfied: certifi>=2017.4.17 in c:\\users\\anoushka\\anaconda3\\lib\\site-packages (from requests>=2.20->twine>=3->schrutepy) (2020.12.5)\n",
      "Requirement already satisfied: chardet<5,>=3.0.2 in c:\\users\\anoushka\\anaconda3\\lib\\site-packages (from requests>=2.20->twine>=3->schrutepy) (4.0.0)\n",
      "Requirement already satisfied: pyparsing>=2.0.2 in c:\\users\\anoushka\\anaconda3\\lib\\site-packages (from packaging->bleach>=2.1.0->readme-renderer>=21.0->twine>=3->schrutepy) (2.4.7)\n",
      "Requirement already satisfied: python-dateutil>=2.7.3 in c:\\users\\anoushka\\anaconda3\\lib\\site-packages (from pandas->schrutepy) (2.8.1)\n",
      "Requirement already satisfied: pytz>=2017.3 in c:\\users\\anoushka\\anaconda3\\lib\\site-packages (from pandas->schrutepy) (2021.1)\n",
      "Requirement already satisfied: numpy>=1.16.5 in c:\\users\\anoushka\\anaconda3\\lib\\site-packages (from pandas->schrutepy) (1.20.1)\n",
      "Note: you may need to restart the kernel to use updated packages.\n"
     ]
    }
   ],
   "source": [
    "pip install schrutepy"
   ]
  },
  {
   "cell_type": "code",
   "execution_count": 3,
   "id": "78bd85a7",
   "metadata": {
    "scrolled": true
   },
   "outputs": [
    {
     "name": "stdout",
     "output_type": "stream",
     "text": [
      "Requirement already satisfied: scikit-learn in c:\\users\\anoushka\\anaconda3\\lib\\site-packages (1.0.2)\n",
      "Requirement already satisfied: scipy>=1.1.0 in c:\\users\\anoushka\\anaconda3\\lib\\site-packages (from scikit-learn) (1.6.2)\n",
      "Requirement already satisfied: threadpoolctl>=2.0.0 in c:\\users\\anoushka\\anaconda3\\lib\\site-packages (from scikit-learn) (2.1.0)\n",
      "Requirement already satisfied: numpy>=1.14.6 in c:\\users\\anoushka\\anaconda3\\lib\\site-packages (from scikit-learn) (1.20.1)\n",
      "Requirement already satisfied: joblib>=0.11 in c:\\users\\anoushka\\anaconda3\\lib\\site-packages (from scikit-learn) (1.0.1)\n",
      "Note: you may need to restart the kernel to use updated packages.\n"
     ]
    }
   ],
   "source": [
    "pip install -U scikit-learn"
   ]
  },
  {
   "cell_type": "code",
   "execution_count": 4,
   "id": "21aa52e1",
   "metadata": {
    "id": "jb4qh-pi7Fo1"
   },
   "outputs": [],
   "source": [
    "#%%\n",
    "#os library version\n",
    "from pathlib import Path\n",
    "\n",
    "# Data libraries\n",
    "import pandas as pd\n",
    "import numpy as np\n",
    "import matplotlib.pyplot as plt\n",
    "import re\n",
    "import os\n",
    "import seaborn as sns\n",
    "\n",
    "# sklearn modules\n",
    "import sklearn\n",
    "from sklearn.preprocessing import MinMaxScaler\n",
    "from sklearn.preprocessing import StandardScaler\n",
    "from imblearn.pipeline import Pipeline\n",
    "from sklearn.compose import ColumnTransformer\n",
    "from sklearn.model_selection import train_test_split\n",
    "\n",
    "\n",
    "# extra modules\n",
    "from schrutepy import schrutepy\n",
    "\n",
    "##Global variables\n",
    "##Threshold total line percentage for being a \"main character\"\n",
    "P = 0.005\n",
    "\n"
   ]
  },
  {
   "cell_type": "markdown",
   "id": "32d75658",
   "metadata": {
    "id": "K314dGEL7Fo1"
   },
   "source": [
    "## 1. Introduction\n",
    "\n",
    "*This section should include a brief introduction to the task and the data (assume this is a report you are delivering to a client). If you use any additional data sources, you should introduce them here and discuss why they were included.*\n",
    "\n",
    "*Briefly outline the approaches being used and the conclusions that you are able to draw.*"
   ]
  },
  {
   "cell_type": "markdown",
   "id": "cde4150f",
   "metadata": {
    "id": "3P6Vdzbo7Fo2"
   },
   "source": [
    "## 2. Exploratory Data Analysis and Feature Engineering"
   ]
  },
  {
   "cell_type": "markdown",
   "id": "50e15bf5",
   "metadata": {
    "id": "Arg9_dYE7Fo2"
   },
   "source": [
    "*Include a detailed discussion of the data with a particular emphasis on the features of the data that are relevant for the subsequent modeling. Including visualizations of the data is strongly encouraged - all code and plots must also be described in the write up. Think carefully about whether each plot needs to be included in your final draft - your report should include figures but they should be as focused and impactful as possible.*\n",
    "\n",
    "*Additionally, this section should also implement and describe any preprocessing / feature engineering of the data. Specifically, this should be any code that you use to generate new columns in the data frame `d`. All of this processing is explicitly meant to occur before we split the data in to training and testing subsets. Processing that will be performed as part of an sklearn pipeline can be mentioned here but should be implemented in the following section.*\n",
    "\n",
    "*All code and figures should be accompanied by text that provides an overview / context to what is being done or presented.*"
   ]
  },
  {
   "cell_type": "markdown",
   "id": "3149f961",
   "metadata": {},
   "source": []
  },
  {
   "cell_type": "code",
   "execution_count": 5,
   "id": "b82b1161",
   "metadata": {},
   "outputs": [],
   "source": [
    "##Load Data\n",
    "d = pd.read_csv(\"../the_office.csv\")\n",
    "transcripts = schrutepy.load_schrute()\n",
    "\n"
   ]
  },
  {
   "cell_type": "markdown",
   "id": "21782b3a",
   "metadata": {},
   "source": []
  },
  {
   "cell_type": "code",
   "execution_count": 6,
   "id": "46ba8181",
   "metadata": {},
   "outputs": [],
   "source": [
    "##copy original data so we don't lose it\n",
    "df = d.copy()\n",
    "\n",
    "##Note that some directors are repeated with different spellings. \n",
    "##Need to fix before any future data solutions\n",
    "wrongdir_dict = {\"Greg Daneils\": \"Greg Daniels\", \"Charles McDougal\": \"Charles McDougall\",\n",
    "                 \"Claire Scanlong\":\"Claire Scanlon\"}\n",
    "df[\"director\"].replace(wrongdir_dict, inplace=True)"
   ]
  },
  {
   "cell_type": "markdown",
   "id": "b3e3abee",
   "metadata": {},
   "source": []
  },
  {
   "cell_type": "code",
   "execution_count": 7,
   "id": "72006721",
   "metadata": {},
   "outputs": [],
   "source": [
    "##combining transcript data with original data to get character line information/important characters\n",
    "\n",
    "##string cols\n",
    "str_cols = (transcripts.applymap(type) == str).all(0)\n",
    "\n",
    "##Lower names, character's and lines for easier processing\n",
    "transcripts = transcripts.applymap(lambda s: s.lower() if type(s) == str else s)\n",
    "\n",
    "##Remove spaces in character (some are incorrectly written like \"jim \")\n",
    "transcripts['character'] = transcripts['character'].str.replace(\" \", \"\")\n",
    "transcripts['season_ep'] = transcripts['season'].astype(str) + \"_\" + transcripts['episode'].astype(str)\n",
    "\n",
    "# ##Per Episode Character lines\n",
    "# transcripts.character.unique()\n",
    "line_sum = transcripts.groupby([\"season_ep\", \"character\"]).size().reset_index(name = \"lines\") ##per character and episode lines\n",
    "line_sum = line_sum.sort_values(ascending = False, by = \"lines\")##sort by lines\n",
    "\n",
    "##Total line percentage per character\n",
    "line_perc = line_sum.groupby(\"character\").agg({\"lines\": \"sum\"}).sort_values(ascending = False, by = \"lines\")\n",
    "line_perc['percentage'] = line_perc/(line_perc.sum())\n",
    "\n",
    "##Greater than 1% line share\n",
    "main_char = line_perc.loc[line_perc['percentage'] > P].index\n",
    "\n",
    "##Top 10 line speakers (main_char)\n",
    "# main_char = (line_perc.nlargest(10, 'percentage')).index\n",
    "\n",
    "##per episode lines for main characters\n",
    "line_main = line_sum.loc[line_sum['character'].isin(main_char)]\n",
    "\n",
    "##Join main data with lines per character data\n",
    "\n",
    "##convert line data into dataframe with each row as a season/episode and each column as the main character lines\n",
    "char_lines = line_main.pivot_table(values='lines', index='season_ep', columns='character').reset_index()\n",
    "char_lines = char_lines.fillna(0) ##fill NA values with zero because they are only not present if no lines were spoken\n",
    "\n",
    "##calculate character line percentage per episode\n",
    "perc_cols = char_lines.select_dtypes(include=np.number).columns + \"_perc\" ##create column names\n",
    "char_lines[perc_cols] = char_lines.select_dtypes(include=np.number).div(d.n_lines, axis = 0) ##per row char line percentages\n",
    "\n",
    "##Create character dummy variables for if present\n",
    "main_char_dummy = [str(x) + \"_dummy\" for x in main_char]\n",
    "char_lines[main_char_dummy] = (char_lines[main_char] > 0).astype(int)\n",
    "\n",
    "##create season_ep column for d to join by\n",
    "df['season_ep'] = df['season'].astype(str) + \"_\" + df['episode'].astype(str)\n",
    "\n",
    "##join the main data with the lines per character data\n",
    "df = pd.merge(df, char_lines, on = 'season_ep', how = 'left')\n"
   ]
  },
  {
   "cell_type": "markdown",
   "id": "82998f17",
   "metadata": {},
   "source": []
  },
  {
   "cell_type": "code",
   "execution_count": 8,
   "id": "e8ccdf2e",
   "metadata": {},
   "outputs": [],
   "source": [
    "##Want to get a list of all writers and a list of all directors \n",
    "##Create new columns where the presence of each writer is it's own variable (one-hot encoding)\n",
    "\n",
    "# convert string to lists\n",
    "#df[[\"year\", \"month\", \"day\"]] = pd.DataFrame(d.air_date.str.split(\"-\").tolist()).astype(int)\n",
    "df[\"writer\"]                 = df[\"writer\"].str.split(\";\")\n",
    "df[\"main_chars\"]             = df[\"main_chars\"].str.split(\";\")\n",
    "df[\"director\"]               = df[\"director\"].str.split(\";\")\n",
    "\n",
    "##Now create dummy variables for each of the writers/directors (we are dropping main character dummies)\n",
    "\n",
    "#######################################################################################################\n",
    "##Functions to Modify Writer/Director##\n",
    "\n",
    "##Function to split column with list variables into dummy variable columns\n",
    "def split_col(column, df):\n",
    "    ##For each episode, check which writiers or directosr are present and put into a dictionary\n",
    "    ##Each column is a writer/direction; each row is an episode\n",
    "    ##The value of row, column is T/F for whether a writer/director is present\n",
    "    \n",
    "    ##get all writers/directors in a flat list and then get unique writers/directors\n",
    "    all_items = [item for ep_item in df[column] for item in ep_item] ##flattened list of writers/directors (duplicates)\n",
    "    items = list(set(all_items)) ##gets list of unique writers/directors\n",
    "\n",
    "    ##For each episode, check which writers/directors are present and put into a dictionary\n",
    "    ##Each column is an individual writer/director; each row is an episode\n",
    "    ##The value of row, column is T/F for whether a writer/director is present\n",
    "    items_df = pd.DataFrame(list(map(lambda x: [i in x for i in items], df[column]))) ##this method worked on all computers\n",
    "    items_df = items_df.astype(int) ##convert boolean T/F to 1/0\n",
    "    items_df.columns = [str(x) + \"_dummy\" + \"_\" + column for x in items] ##item names + \"dummy\"\n",
    "    \n",
    "    return(items_df)\n",
    "\n",
    "\n",
    "##Function to group \"low\" appearance directors/writers into one \"low-appearance\" column dummy variable\n",
    "##Removes the original columns for those low-appearane writers directors\n",
    "def categorize_low(column_type, df, threshold):\n",
    "    ##if writer/director shows up less than or equal to the threshold, re-categorize to \"Low-Appearance\"\n",
    "    items_eps = df.sum(axis = 0)\n",
    "    low_appearance = list(items_eps[items_eps <= threshold].index) \n",
    "    new_col = \"low_appearance\" + \"_\" + column_type\n",
    "\n",
    "    ##create new writer column for low-appearance\n",
    "    df[new_col] = df[low_appearance].sum(axis = 1) > 0 ##Identifies episodes where a low_appearance writer/dir is\n",
    "    df[new_col] = df[new_col].astype(int) ##convert boolean to integer\n",
    "    \n",
    "    ##drop original low_appearance columns\n",
    "    df.drop(columns = low_appearance, inplace = True)\n",
    "    \n",
    "    return(df)\n",
    "\n",
    "##End of Functions##\n",
    "##################################################################################################################\n",
    "\n",
    "##create dummy variable dataframes for writers and directors\n",
    "writers_df = split_col(column = \"writer\", df = df)\n",
    "directors_df = split_col(column = \"director\", df = df)\n",
    "\n",
    "##group low-appearance writers and directors and remove columns for those low-appearance writers/directors\n",
    "writers_df = categorize_low(column_type = \"writer\", df = writers_df, threshold = 2)\n",
    "directors_df = categorize_low(column_type = \"directors\", df = directors_df, threshold = 2)\n",
    "\n",
    "##Add the writer data to overall data\n",
    "df = pd.concat([df, writers_df, directors_df], axis = 1)\n",
    "\n"
   ]
  },
  {
   "cell_type": "markdown",
   "id": "2dec14b8",
   "metadata": {},
   "source": []
  },
  {
   "cell_type": "code",
   "execution_count": 9,
   "id": "0ac5dc26",
   "metadata": {},
   "outputs": [],
   "source": [
    "##Create multipart episde columns\n",
    "\n",
    "# Create column to indicate if said episode consist of multi parts\n",
    "p = re.compile(\"Parts 1&2\")\n",
    "df[\"multi_part_dummy\"] = [int(not int(pd.isnull(re.search(p,i)))) for i in df[\"episode_name\"]]\n"
   ]
  },
  {
   "cell_type": "markdown",
   "id": "66be0a76",
   "metadata": {},
   "source": []
  },
  {
   "cell_type": "code",
   "execution_count": 10,
   "id": "61d999b2",
   "metadata": {},
   "outputs": [],
   "source": [
    "##Replace any spaces in column names with \"_\"\n",
    "df.columns = df.columns.str.replace(' ', '_')\n"
   ]
  },
  {
   "cell_type": "code",
   "execution_count": null,
   "id": "440d71b9",
   "metadata": {},
   "outputs": [],
   "source": []
  },
  {
   "cell_type": "code",
   "execution_count": 11,
   "id": "32271568",
   "metadata": {},
   "outputs": [],
   "source": [
    "##save data and filter to remove columns we don't want\n",
    "\n",
    "##create data directory if it doesn't exist\n",
    "if not os.path.exists(\"./data\"): os.mkdir(\"./data\")\n",
    "\n",
    "# %%\n",
    "df.to_csv(\"data/full_raw_dat.csv\", index=False)\n",
    "\n",
    "# remove unused columns and observations\n",
    "col_drop = [\"episode_name\", \"season_ep\", \"air_date\", \"episode\", \"writer\", \"director\", \"main_chars\"]\n",
    "p        = re.compile(\"Part [12]\")\n",
    "row_drop = [pd.isnull(re.search(p,i)) for i in df[\"episode_name\"]]\n",
    "fdat     = df.drop(col_drop,axis=1).iloc[row_drop,:]\n",
    "\n",
    "Path(\"data\").mkdir(parents=True, exist_ok=True)\n",
    "fdat.to_csv(\"data/full_filtered_dat.csv\", index=False)\n"
   ]
  },
  {
   "cell_type": "markdown",
   "id": "db7e1625",
   "metadata": {},
   "source": [
    "**Standardizing and Splitting Data**"
   ]
  },
  {
   "cell_type": "code",
   "execution_count": 12,
   "id": "d072230c",
   "metadata": {},
   "outputs": [],
   "source": [
    "SEED = 55 ##for reproducibility\n",
    "\n",
    "#%%\n",
    "# read full data\n",
    "fdat = pd.read_csv(\"data/full_filtered_dat.csv\")\n",
    "\n",
    "# separate response and explanatory data\n",
    "X = fdat.drop(\"imdb_rating\", axis=1)\n",
    "y = fdat.imdb_rating\n",
    "\n",
    "##Creating categorical version of response data for potential classifiers instead of regressors\n",
    "cuts = [6,7,8,9,10] ##does not include the lowest; so here would make 4 bins between each of the numbers\n",
    "binnames = ['4', '3', '2', '1'] ##name of bins with 1 being the best rating\n",
    "y_class = pd.cut(y, cuts, labels = binnames)\n",
    "\n",
    "\n",
    "# binlist = [y <= 7.5, y <= 8.5, y <= 9, y <= 10] ##cutoffs for different imdb categories\n",
    "# binnames = ['1', '2', '3', \"4\"] ##names for the categories\n",
    "# y_class = pd.Series(np.select(binlist, binnames, default='unknown')) \n",
    "\n",
    "\n",
    "# np.unique(y_class, return_counts=True)\n",
    "\n",
    "# write raw files\n",
    "\n",
    "##make new file\n",
    "Path(f\"./data/seed_{SEED}\").mkdir(parents=True, exist_ok=True)\n",
    "\n",
    "##split data into train test\n",
    "##Numerical data\n",
    "X_train, X_test, y_train, y_test = train_test_split(X, y, test_size=0.33, random_state=SEED, stratify = y_class)\n",
    "\n",
    "##binned data (X_test and X_train are the same as above since we use the same seed, so no need to respecify)\n",
    "##Unpack to _ and _ for both since we made above\n",
    "_, _, y_train_cl, y_test_cl = train_test_split(X, y_class, test_size=0.33, random_state=SEED, stratify = y_class)\n",
    "\n",
    "\n",
    "\n",
    "##Write to csvs for later\n",
    "\n",
    "##numerical data\n",
    "X_train.to_csv(f\"data/SEED_{SEED}/X_train_raw.csv\", index=False)\n",
    "X_test.to_csv(f\"data/SEED_{SEED}/X_test_raw.csv\", index=False)\n",
    "y_train.to_csv(f\"data/SEED_{SEED}/y_train.csv\", index=False)\n",
    "y_test.to_csv(f\"data/SEED_{SEED}/y_test.csv\", index=False)\n",
    "\n",
    "##binned data\n",
    "y_train_cl.to_csv(f\"data/SEED_{SEED}/y_train_cl.csv\", index=False)\n",
    "y_test_cl.to_csv(f\"data/SEED_{SEED}/y_test_cl.csv\", index=False)\n",
    "\n",
    "# create pipeline for scalers\n",
    "std_scale = Pipeline([('standard', StandardScaler())])\n",
    "minmax_scale = Pipeline([('minmax', MinMaxScaler())])\n",
    "\n",
    "# select columns that require scaling\n",
    "##select dummy variables (All dummies are numeric, but binary)\n",
    "##Therefore we select from numerics, but only if labeled with dummy writer or director\n",
    "\n",
    "scale_col = X_train.select_dtypes(include = np.number) ##subset the numeric columns\n",
    "cat_cols = scale_col.filter(regex = 'dummy|writer|director').columns ##subset the columns with dummy/writer/director\n",
    "\n",
    "scale_col = [col for col in scale_col if col not in cat_cols] ##update scale_col with numeric columns not in dummy vars\n",
    "\n",
    "# scale_col = X_train.iloc[:,0:24].select_dtypes(include=np.number).columns.tolist()\n",
    "\n",
    "\n",
    "##Define column transformers for scaling and min/max transformations\n",
    "minmax_prep = ColumnTransformer(\n",
    "        remainder='passthrough', ##keep all columns not specified in transformer\n",
    "        transformers=[\n",
    "            ('minmax', minmax_scale , scale_col), ##apply minmax_scale to scale_col\n",
    "        ])\n",
    "\n",
    "std_prep = ColumnTransformer(\n",
    "        remainder='passthrough', ##keep all columns not specified in transformer\n",
    "        transformers=[\n",
    "            ('std', std_scale , scale_col), ##apply std_scale to scale_col\n",
    "        ])\n",
    "\n",
    "\n",
    "#%%\n",
    "# fit minmax on training data\n",
    "minmax_prep.fit(X_train)\n",
    "minmax_train = pd.DataFrame(minmax_prep.transform(X_train), columns = X_train.columns)\n",
    "minmax_test = pd.DataFrame(minmax_prep.transform(X_test), columns = X_train.columns)##Transform test with fit from training\n",
    "\n",
    "##fit scaler on training data\n",
    "std_prep.fit(X_train)\n",
    "std_train = pd.DataFrame(std_prep.transform(X_train), columns = X_train.columns)\n",
    "std_test = pd.DataFrame(std_prep.transform(X_test), columns = X_train.columns) ##Transform test data with fit from training \n",
    "\n",
    "\n",
    "#%%\n",
    "\n",
    "##write to csv\n",
    "minmax_train.to_csv(f\"data/SEED_{SEED}/X_train_minmax.csv\", index=False)\n",
    "minmax_test.to_csv(f\"data/SEED_{SEED}/X_test_minmax.csv\", index=False)\n",
    "std_train.to_csv(f\"data/SEED_{SEED}/X_train_std.csv\", index=False)\n",
    "std_test.to_csv(f\"data/SEED_{SEED}/X_test_std.csv\", index=False)\n",
    "\n",
    "# %%\n"
   ]
  },
  {
   "cell_type": "markdown",
   "id": "b9ebeac9",
   "metadata": {
    "id": "Ad7J-Yw67Fo3"
   },
   "source": [
    "## 3. Model Fitting and Tuning"
   ]
  },
  {
   "cell_type": "markdown",
   "id": "a5a7b140",
   "metadata": {
    "id": "EXdvOaZs7Fo3"
   },
   "source": [
    "*In this section you should detail your choice of model and describe the process used to refine and fit that model. You are strongly encouraged to explore many different modeling methods (e.g. linear regression, regression trees, lasso, etc.) but you should not include a detailed narrative of all of these attempts. At most this section should mention the methods explored and why they were rejected - most of your effort should go into describing the model you are using and your process for tuning and validatin it.*\n",
    "\n",
    "*For example if you considered a linear regression model, a classification tree, and a lasso model and ultimately settled on the linear regression approach then you should mention that other two approaches were tried but do not include any of the code or any in depth discussion of these models beyond why they were rejected. This section should then detail is the development of the linear regression model in terms of features used, interactions considered, and any additional tuning and validation which ultimately led to your final model.* \n",
    "\n",
    "*This section should also include the full implementation of your final model, including all necessary validation. As with figures, any included code must also be addressed in the text of the document.*"
   ]
  },
  {
   "cell_type": "code",
   "execution_count": 13,
   "id": "17c70450",
   "metadata": {},
   "outputs": [],
   "source": [
    "import sklearn\n",
    "from sklearn.metrics import mean_squared_error\n",
    "from sklearn.pipeline import make_pipeline\n",
    "from sklearn.model_selection import GridSearchCV, KFold\n",
    "from sklearn.linear_model import Ridge"
   ]
  },
  {
   "cell_type": "code",
   "execution_count": 14,
   "id": "91f6e120",
   "metadata": {
    "scrolled": true
   },
   "outputs": [],
   "source": [
    "X_train_std= pd.read_csv(\"data/seed_55/X_train_std.csv\")\n",
    "y_train_std = pd.read_csv(\"data/seed_55/y_train.csv\")\n",
    "X_test_std= pd.read_csv(\"data/seed_55/X_test_std.csv\")\n",
    "y_test_std = pd.read_csv(\"data/seed_55/y_test.csv\")"
   ]
  },
  {
   "cell_type": "code",
   "execution_count": 40,
   "id": "0528fc24",
   "metadata": {},
   "outputs": [],
   "source": [
    "ridge_model = Ridge(alpha=15.07537688442211).fit(X_train_std,y_train_std)"
   ]
  },
  {
   "cell_type": "code",
   "execution_count": 41,
   "id": "8889d5b8",
   "metadata": {},
   "outputs": [
    {
     "data": {
      "text/plain": [
       "array([[ 2.14455394e-02,  2.07290439e-01,  3.32378176e-02,\n",
       "        -1.40506020e-02, -2.08500345e-02, -4.53425636e-02,\n",
       "        -3.04731555e-02, -7.75793497e-03,  2.14610345e-02,\n",
       "         4.39323812e-02,  2.99028426e-02, -6.42864184e-03,\n",
       "        -2.61506606e-02, -6.12483802e-03,  2.81830963e-02,\n",
       "         2.41924060e-02,  7.18001547e-02, -1.84174729e-04,\n",
       "        -1.04650196e-03,  9.07667042e-03,  3.01244039e-03,\n",
       "         9.94329809e-03, -6.73465186e-02, -2.60015931e-02,\n",
       "         2.13250569e-02,  2.01092454e-02, -5.15619165e-02,\n",
       "         1.28097597e-02, -8.15559895e-03,  2.22027974e-02,\n",
       "         2.18907761e-02,  5.96921324e-02, -2.65145922e-03,\n",
       "         7.79508991e-03,  3.23106209e-02,  1.25296422e-02,\n",
       "        -3.38673517e-04,  2.14393999e-02,  1.86693834e-03,\n",
       "         3.33702419e-02,  1.63765578e-02, -2.14834745e-03,\n",
       "         8.15839903e-03,  1.42899481e-02, -1.67711891e-02,\n",
       "        -1.96830127e-02, -7.23132262e-02,  4.13111520e-02,\n",
       "        -5.41268242e-02,  2.24091406e-02, -4.00575046e-02,\n",
       "        -2.28262152e-02,  5.37034160e-02,  2.87200593e-02,\n",
       "         1.85450859e-02,  0.00000000e+00,  0.00000000e+00,\n",
       "        -2.08951686e-02,  5.39499248e-02, -1.03024903e-02,\n",
       "        -4.48492790e-02, -4.27329952e-02,  3.62326586e-03,\n",
       "        -6.50362072e-03, -1.42005862e-02, -4.15870914e-02,\n",
       "         7.49651660e-02, -4.47618076e-03, -4.48162803e-02,\n",
       "         1.12634029e-02,  1.68840408e-02, -2.24874606e-02,\n",
       "        -3.19609427e-02, -5.57325421e-02,  4.17089792e-05,\n",
       "         3.20744330e-02, -4.09817170e-03,  6.23174672e-02,\n",
       "         1.44107657e-02, -3.80909260e-03, -1.58300189e-02,\n",
       "        -7.65944618e-03,  2.55345761e-02,  6.38780476e-02,\n",
       "        -2.83539131e-02, -5.70772501e-03, -1.63696631e-02,\n",
       "         6.80750639e-03, -3.80909260e-03,  3.31447736e-02,\n",
       "         4.24720111e-02,  4.24720111e-02, -2.54370231e-03,\n",
       "        -3.77227409e-02, -4.78493101e-02, -6.39250130e-03,\n",
       "        -1.59990049e-02, -2.63937291e-02, -2.20122000e-02,\n",
       "        -5.41796666e-02, -2.60026078e-02, -3.23389519e-02,\n",
       "         1.54320826e-02,  2.12282727e-02,  3.78057835e-02,\n",
       "        -5.94972506e-03, -2.31733227e-02,  5.52398459e-03,\n",
       "        -3.19095674e-03,  6.58642899e-02, -4.47048290e-02,\n",
       "        -1.54235553e-02,  1.18748568e-02, -2.43087362e-02,\n",
       "         8.43767013e-02,  1.07805572e-03, -1.80399963e-02,\n",
       "        -9.72418986e-03,  4.55170386e-03,  4.39099441e-03]])"
      ]
     },
     "execution_count": 41,
     "metadata": {},
     "output_type": "execute_result"
    }
   ],
   "source": [
    "ridge_model.coef_"
   ]
  },
  {
   "cell_type": "code",
   "execution_count": 42,
   "id": "f8d0d93c",
   "metadata": {},
   "outputs": [],
   "source": [
    "y_hat = ridge_model.predict(X_test_std)\n"
   ]
  },
  {
   "cell_type": "code",
   "execution_count": 43,
   "id": "b9658b97",
   "metadata": {},
   "outputs": [
    {
     "data": {
      "text/plain": [
       "0.43223655097136876"
      ]
     },
     "execution_count": 43,
     "metadata": {},
     "output_type": "execute_result"
    }
   ],
   "source": [
    "rmse = np.sqrt(mean_squared_error(y_test_std, y_hat))\n",
    "rmse"
   ]
  },
  {
   "cell_type": "code",
   "execution_count": 44,
   "id": "49233bdb",
   "metadata": {},
   "outputs": [
    {
     "data": {
      "text/plain": [
       "(61, 1)"
      ]
     },
     "execution_count": 44,
     "metadata": {},
     "output_type": "execute_result"
    }
   ],
   "source": [
    "y_test_std.shape"
   ]
  },
  {
   "cell_type": "code",
   "execution_count": 45,
   "id": "cbaf8847",
   "metadata": {},
   "outputs": [
    {
     "data": {
      "text/plain": [
       "(61, 1)"
      ]
     },
     "execution_count": 45,
     "metadata": {},
     "output_type": "execute_result"
    }
   ],
   "source": [
    "y_hat.shape"
   ]
  },
  {
   "cell_type": "code",
   "execution_count": 46,
   "id": "b867b166",
   "metadata": {},
   "outputs": [
    {
     "data": {
      "text/html": [
       "<div>\n",
       "<style scoped>\n",
       "    .dataframe tbody tr th:only-of-type {\n",
       "        vertical-align: middle;\n",
       "    }\n",
       "\n",
       "    .dataframe tbody tr th {\n",
       "        vertical-align: top;\n",
       "    }\n",
       "\n",
       "    .dataframe thead th {\n",
       "        text-align: right;\n",
       "    }\n",
       "</style>\n",
       "<table border=\"1\" class=\"dataframe\">\n",
       "  <thead>\n",
       "    <tr style=\"text-align: right;\">\n",
       "      <th></th>\n",
       "      <th>imdb_rating</th>\n",
       "    </tr>\n",
       "  </thead>\n",
       "  <tbody>\n",
       "    <tr>\n",
       "      <th>0</th>\n",
       "      <td>0.568774</td>\n",
       "    </tr>\n",
       "    <tr>\n",
       "      <th>1</th>\n",
       "      <td>-0.419683</td>\n",
       "    </tr>\n",
       "    <tr>\n",
       "      <th>2</th>\n",
       "      <td>-0.483648</td>\n",
       "    </tr>\n",
       "    <tr>\n",
       "      <th>3</th>\n",
       "      <td>-0.068321</td>\n",
       "    </tr>\n",
       "    <tr>\n",
       "      <th>4</th>\n",
       "      <td>0.114327</td>\n",
       "    </tr>\n",
       "    <tr>\n",
       "      <th>...</th>\n",
       "      <td>...</td>\n",
       "    </tr>\n",
       "    <tr>\n",
       "      <th>56</th>\n",
       "      <td>0.003019</td>\n",
       "    </tr>\n",
       "    <tr>\n",
       "      <th>57</th>\n",
       "      <td>0.609863</td>\n",
       "    </tr>\n",
       "    <tr>\n",
       "      <th>58</th>\n",
       "      <td>-0.370037</td>\n",
       "    </tr>\n",
       "    <tr>\n",
       "      <th>59</th>\n",
       "      <td>-0.094726</td>\n",
       "    </tr>\n",
       "    <tr>\n",
       "      <th>60</th>\n",
       "      <td>-0.370734</td>\n",
       "    </tr>\n",
       "  </tbody>\n",
       "</table>\n",
       "<p>61 rows × 1 columns</p>\n",
       "</div>"
      ],
      "text/plain": [
       "    imdb_rating\n",
       "0      0.568774\n",
       "1     -0.419683\n",
       "2     -0.483648\n",
       "3     -0.068321\n",
       "4      0.114327\n",
       "..          ...\n",
       "56     0.003019\n",
       "57     0.609863\n",
       "58    -0.370037\n",
       "59    -0.094726\n",
       "60    -0.370734\n",
       "\n",
       "[61 rows x 1 columns]"
      ]
     },
     "execution_count": 46,
     "metadata": {},
     "output_type": "execute_result"
    }
   ],
   "source": [
    "resid = y_test_std - y_hat\n",
    "resid"
   ]
  },
  {
   "cell_type": "code",
   "execution_count": 47,
   "id": "2b7fa175",
   "metadata": {},
   "outputs": [],
   "source": [
    "resid[\"y_test_std\"]=y_test_std\n",
    "resid[\"y_hat\"]=y_hat"
   ]
  },
  {
   "cell_type": "code",
   "execution_count": 48,
   "id": "878c3c2b",
   "metadata": {},
   "outputs": [
    {
     "data": {
      "text/html": [
       "<div>\n",
       "<style scoped>\n",
       "    .dataframe tbody tr th:only-of-type {\n",
       "        vertical-align: middle;\n",
       "    }\n",
       "\n",
       "    .dataframe tbody tr th {\n",
       "        vertical-align: top;\n",
       "    }\n",
       "\n",
       "    .dataframe thead th {\n",
       "        text-align: right;\n",
       "    }\n",
       "</style>\n",
       "<table border=\"1\" class=\"dataframe\">\n",
       "  <thead>\n",
       "    <tr style=\"text-align: right;\">\n",
       "      <th></th>\n",
       "      <th>imdb_rating</th>\n",
       "      <th>y_test_std</th>\n",
       "      <th>y_hat</th>\n",
       "    </tr>\n",
       "  </thead>\n",
       "  <tbody>\n",
       "    <tr>\n",
       "      <th>0</th>\n",
       "      <td>0.568774</td>\n",
       "      <td>8.7</td>\n",
       "      <td>8.131226</td>\n",
       "    </tr>\n",
       "    <tr>\n",
       "      <th>1</th>\n",
       "      <td>-0.419683</td>\n",
       "      <td>8.1</td>\n",
       "      <td>8.519683</td>\n",
       "    </tr>\n",
       "    <tr>\n",
       "      <th>2</th>\n",
       "      <td>-0.483648</td>\n",
       "      <td>8.0</td>\n",
       "      <td>8.483648</td>\n",
       "    </tr>\n",
       "    <tr>\n",
       "      <th>3</th>\n",
       "      <td>-0.068321</td>\n",
       "      <td>8.4</td>\n",
       "      <td>8.468321</td>\n",
       "    </tr>\n",
       "    <tr>\n",
       "      <th>4</th>\n",
       "      <td>0.114327</td>\n",
       "      <td>7.8</td>\n",
       "      <td>7.685673</td>\n",
       "    </tr>\n",
       "    <tr>\n",
       "      <th>...</th>\n",
       "      <td>...</td>\n",
       "      <td>...</td>\n",
       "      <td>...</td>\n",
       "    </tr>\n",
       "    <tr>\n",
       "      <th>56</th>\n",
       "      <td>0.003019</td>\n",
       "      <td>8.0</td>\n",
       "      <td>7.996981</td>\n",
       "    </tr>\n",
       "    <tr>\n",
       "      <th>57</th>\n",
       "      <td>0.609863</td>\n",
       "      <td>8.7</td>\n",
       "      <td>8.090137</td>\n",
       "    </tr>\n",
       "    <tr>\n",
       "      <th>58</th>\n",
       "      <td>-0.370037</td>\n",
       "      <td>7.7</td>\n",
       "      <td>8.070037</td>\n",
       "    </tr>\n",
       "    <tr>\n",
       "      <th>59</th>\n",
       "      <td>-0.094726</td>\n",
       "      <td>8.2</td>\n",
       "      <td>8.294726</td>\n",
       "    </tr>\n",
       "    <tr>\n",
       "      <th>60</th>\n",
       "      <td>-0.370734</td>\n",
       "      <td>8.4</td>\n",
       "      <td>8.770734</td>\n",
       "    </tr>\n",
       "  </tbody>\n",
       "</table>\n",
       "<p>61 rows × 3 columns</p>\n",
       "</div>"
      ],
      "text/plain": [
       "    imdb_rating  y_test_std     y_hat\n",
       "0      0.568774         8.7  8.131226\n",
       "1     -0.419683         8.1  8.519683\n",
       "2     -0.483648         8.0  8.483648\n",
       "3     -0.068321         8.4  8.468321\n",
       "4      0.114327         7.8  7.685673\n",
       "..          ...         ...       ...\n",
       "56     0.003019         8.0  7.996981\n",
       "57     0.609863         8.7  8.090137\n",
       "58    -0.370037         7.7  8.070037\n",
       "59    -0.094726         8.2  8.294726\n",
       "60    -0.370734         8.4  8.770734\n",
       "\n",
       "[61 rows x 3 columns]"
      ]
     },
     "execution_count": 48,
     "metadata": {},
     "output_type": "execute_result"
    }
   ],
   "source": [
    "resid"
   ]
  },
  {
   "cell_type": "code",
   "execution_count": 54,
   "id": "611fb6cc",
   "metadata": {},
   "outputs": [
    {
     "data": {
      "text/plain": [
       "0.36396284506887533"
      ]
     },
     "execution_count": 54,
     "metadata": {},
     "output_type": "execute_result"
    }
   ],
   "source": [
    "from sklearn.metrics import r2_score\n",
    "r2_score(y_test_std, y_hat)"
   ]
  },
  {
   "cell_type": "code",
   "execution_count": 61,
   "id": "9899134a",
   "metadata": {},
   "outputs": [
    {
     "data": {
      "image/png": "[encoded data removed]",
      "text/plain": [
       "<Figure size 864x432 with 2 Axes>"
      ]
     },
     "metadata": {
      "needs_background": "light"
     },
     "output_type": "display_data"
    }
   ],
   "source": [
    "plt.figure(figsize=(12, 6))\n",
    "        \n",
    "plt.subplot(121)\n",
    "plt.axline((1, 1), slope=1,color='r')\n",
    "sns.scatterplot(x='y_test_std', y='y_hat', data=resid,color=\".2\").set_title(\"Fit plot\")\n",
    "plt.xlim([6, 10])   \n",
    "plt.ylim([6, 10])   \n",
    "\n",
    "\n",
    "plt.subplot(122)\n",
    "sns.scatterplot(x='y_test_std', y='imdb_rating', data=resid).set_title(\"Residual plot\")\n",
    "plt.hlines(y=0, xmin=np.min(y_test_std), xmax=np.max(y_test_std), linestyles='dashed', alpha=0.3, colors=\"black\")\n",
    "        \n",
    "plt.subplots_adjust(left=0.0)\n",
    "    \n",
    "plt.suptitle(\"Model rmse = \" + str(round(rmse, 4)), fontsize=16)\n",
    "plt.show()\n",
    "    "
   ]
  },
  {
   "cell_type": "code",
   "execution_count": 35,
   "id": "a52445df",
   "metadata": {},
   "outputs": [
    {
     "name": "stderr",
     "output_type": "stream",
     "text": [
      "C:\\Users\\ANOUSHKA\\anaconda3\\lib\\site-packages\\sklearn\\linear_model\\_ridge.py:196: UserWarning: Singular matrix in solving dual problem. Using least-squares solution instead.\n",
      "  warnings.warn(\n",
      "C:\\Users\\ANOUSHKA\\anaconda3\\lib\\site-packages\\sklearn\\linear_model\\_ridge.py:196: UserWarning: Singular matrix in solving dual problem. Using least-squares solution instead.\n",
      "  warnings.warn(\n",
      "C:\\Users\\ANOUSHKA\\anaconda3\\lib\\site-packages\\sklearn\\linear_model\\_ridge.py:196: UserWarning: Singular matrix in solving dual problem. Using least-squares solution instead.\n",
      "  warnings.warn(\n",
      "C:\\Users\\ANOUSHKA\\anaconda3\\lib\\site-packages\\sklearn\\linear_model\\_ridge.py:196: UserWarning: Singular matrix in solving dual problem. Using least-squares solution instead.\n",
      "  warnings.warn(\n",
      "C:\\Users\\ANOUSHKA\\anaconda3\\lib\\site-packages\\sklearn\\linear_model\\_ridge.py:196: UserWarning: Singular matrix in solving dual problem. Using least-squares solution instead.\n",
      "  warnings.warn(\n"
     ]
    }
   ],
   "source": [
    "alphas = np.linspace(0, 60, num=200)\n",
    "\n",
    "\n",
    "gs = GridSearchCV( make_pipeline(\n",
    "        Ridge()),\n",
    "    param_grid={'ridge__alpha': alphas},\n",
    "    cv=KFold(5, shuffle=True, random_state=1234),\n",
    "    scoring=\"neg_root_mean_squared_error\"\n",
    ").fit(X_train_std, y_train_std)"
   ]
  },
  {
   "cell_type": "code",
   "execution_count": 39,
   "id": "42b1343c",
   "metadata": {},
   "outputs": [
    {
     "name": "stdout",
     "output_type": "stream",
     "text": [
      "{'ridge__alpha': 15.07537688442211}\n"
     ]
    }
   ],
   "source": [
    "print(gs.best_params_)"
   ]
  },
  {
   "cell_type": "code",
   "execution_count": 64,
   "id": "0102b693",
   "metadata": {},
   "outputs": [
    {
     "name": "stdout",
     "output_type": "stream",
     "text": [
      "Pipeline(steps=[('ridge', Ridge(alpha=15.07537688442211))])\n"
     ]
    }
   ],
   "source": []
  },
  {
   "cell_type": "code",
   "execution_count": null,
   "id": "3cc425fa",
   "metadata": {},
   "outputs": [],
   "source": []
  },
  {
   "cell_type": "code",
   "execution_count": null,
   "id": "dbb45d97",
   "metadata": {},
   "outputs": [],
   "source": []
  },
  {
   "cell_type": "code",
   "execution_count": null,
   "id": "d5127bad",
   "metadata": {},
   "outputs": [],
   "source": []
  },
  {
   "cell_type": "markdown",
   "id": "0abc0e3b",
   "metadata": {
    "id": "edQVULLU7Fo3"
   },
   "source": [
    "## 4. Discussion & Conclusions\n"
   ]
  },
  {
   "cell_type": "markdown",
   "id": "dff2c7cd",
   "metadata": {
    "id": "Fi0yKPrQ7Fo4"
   },
   "source": [
    "*In this section you should provide a general overview of your final model, its performance, and reliability. You should discuss what the implications of your model are in terms of the included features, predictive performance, and anything else you think is relevant.*\n",
    "\n",
    "*This should be written with a target audience of a NBC Universal executive who is with the show and  university level mathematics but not necessarily someone who has taken a postgraduate statistical modeling course. Your goal should be to convince this audience that your model is both accurate and useful.*\n",
    "\n",
    "*Finally, you should include concrete recommendations on what NBC Universal should do to make their reunion episode a popular as possible.*\n",
    "\n",
    "*Keep in mind that a negative result, i.e. a model that does not work well predictively, that is well explained and justified in terms of why it failed will likely receive higher marks than a model with strong predictive performance but with poor or incorrect explinations / justifications.*"
   ]
  },
  {
   "cell_type": "code",
   "execution_count": null,
   "id": "69773259",
   "metadata": {},
   "outputs": [],
   "source": []
  }
 ],
 "metadata": {
  "kernelspec": {
   "display_name": "Python 3",
   "language": "python",
   "name": "python3"
  },
  "language_info": {
   "codemirror_mode": {
    "name": "ipython",
    "version": 3
   },
   "file_extension": ".py",
   "mimetype": "text/x-python",
   "name": "python",
   "nbconvert_exporter": "python",
   "pygments_lexer": "ipython3",
   "version": "3.8.8"
  }
 },
 "nbformat": 4,
 "nbformat_minor": 5
}
